{
 "cells": [
  {
   "cell_type": "code",
   "execution_count": 1,
   "id": "1216c5c4-10c7-41da-9c2c-1e26bbd92f81",
   "metadata": {},
   "outputs": [],
   "source": [
    "#Multiple data store - python data collection\n",
    "#1. list\n",
    "#2. tuple\n",
    "#3. dictionary\n",
    "#4. set"
   ]
  },
  {
   "cell_type": "code",
   "execution_count": 4,
   "id": "6c0002ac-0945-4d4f-a85f-06c465ac5050",
   "metadata": {},
   "outputs": [
    {
     "name": "stdout",
     "output_type": "stream",
     "text": [
      "['Apple', 'Ball', 'Cat', 'Apple']\n",
      "[1, 2, 3, 4, 5, 6, 7, 8, 9, 9]\n"
     ]
    }
   ],
   "source": [
    "l = [\"Apple\", \"Ball\", \"Cat\"] #multiple items/values separated by commas\n",
    "a = [1,2,3,4,5,6,7,8,9]\n",
    "\n",
    "#Can contain Duplicate data\n",
    "l = [\"Apple\", \"Ball\", \"Cat\",\"Apple\"]\n",
    "a = [1,2,3,4,5,6,7,8,9,9]\n",
    "print(l)\n",
    "print(a)"
   ]
  },
  {
   "cell_type": "code",
   "execution_count": 6,
   "id": "b5825725-594e-402f-abf6-bfa7f55cb526",
   "metadata": {},
   "outputs": [
    {
     "name": "stdout",
     "output_type": "stream",
     "text": [
      "Apple\n",
      "Ball\n"
     ]
    }
   ],
   "source": [
    "#indexing\n",
    "l = [\"Apple\", \"Ball\", \"Cat\", \"Apple\"] #indexing by comma, so 0 is apple, 1 is ball\n",
    "print(l[0])\n",
    "print(l[1])"
   ]
  },
  {
   "cell_type": "code",
   "execution_count": 18,
   "id": "f05f2ac1-0cff-4063-9db7-3fcbad613f72",
   "metadata": {},
   "outputs": [
    {
     "name": "stdout",
     "output_type": "stream",
     "text": [
      "['Apple', 'Ball']\n",
      "[True, 10.5, 3]\n",
      "['Apple', 'Cat', 1, 3, True]\n",
      "<class 'list'>\n"
     ]
    }
   ],
   "source": [
    "#slicing\n",
    "l = [\"Apple\", \"Ball\", \"Cat\", \"Apple\",1,2,3,10.5, True]\n",
    "a = [1,2,3,4,5,6,7,8,9,9]\n",
    "print(l[0:2]) #indexing\n",
    "print(l[-1:-4:-1])  #negative slicing\n",
    "print(l[0:10:2]) #slicing\n",
    "print(type(a)) #data types"
   ]
  },
  {
   "cell_type": "code",
   "execution_count": 12,
   "id": "7cf71091-af08-4f00-ba8e-ea654df68d34",
   "metadata": {},
   "outputs": [
    {
     "name": "stdout",
     "output_type": "stream",
     "text": [
      "Apple\n",
      "Ball\n",
      "Cat\n",
      "Apple\n"
     ]
    }
   ],
   "source": [
    "#with looping\n",
    "l = [\"Apple\", \"Ball\", \"Cat\", \"Apple\"] #predefined variables, another is user defined by asking user to enter the value\n",
    "for i in l: #loops as per the no. of items\n",
    "    print(i)"
   ]
  },
  {
   "cell_type": "code",
   "execution_count": 13,
   "id": "fc609560-635b-418f-9ba7-7593a574bbe1",
   "metadata": {},
   "outputs": [
    {
     "name": "stdout",
     "output_type": "stream",
     "text": [
      "Apple Hello World\n",
      "Ball Hello World\n",
      "Cat Hello World\n",
      "Apple Hello World\n"
     ]
    }
   ],
   "source": [
    "#with looping\n",
    "l = [\"Apple\", \"Ball\", \"Cat\", \"Apple\"]\n",
    "for i in l:\n",
    "    print(i, \"Hello World\")"
   ]
  },
  {
   "cell_type": "code",
   "execution_count": 15,
   "id": "70acccda-b593-4b15-80cb-8cc804f3720d",
   "metadata": {},
   "outputs": [
    {
     "name": "stdout",
     "output_type": "stream",
     "text": [
      "0\n",
      "1\n",
      "2\n",
      "3\n"
     ]
    }
   ],
   "source": [
    "#range function\n",
    "l = [\"Apple\", \"Ball\", \"Cat\", \"Apple\"]\n",
    "for i in range(len(l)):\n",
    "    print(i)"
   ]
  },
  {
   "cell_type": "code",
   "execution_count": 16,
   "id": "4cb8501d-3a89-4fde-8ab0-e54a4fa88473",
   "metadata": {},
   "outputs": [
    {
     "name": "stdout",
     "output_type": "stream",
     "text": [
      "Apple\n",
      "Ball\n",
      "Cat\n",
      "Apple\n"
     ]
    }
   ],
   "source": [
    "#range function\n",
    "l = [\"Apple\", \"Ball\", \"Cat\", \"Apple\"]\n",
    "for i in range(len(l)):\n",
    "    print(l[i])"
   ]
  },
  {
   "cell_type": "code",
   "execution_count": 20,
   "id": "14fd1c83-9270-44ca-89cb-1a6b45661e75",
   "metadata": {},
   "outputs": [
    {
     "name": "stdin",
     "output_type": "stream",
     "text": [
      "Enter n =  5\n",
      "Enter x =  Apple\n",
      "Enter x =  Ball\n",
      "Enter x =  Cat\n",
      "Enter x =  Dog\n",
      "Enter x =  Egg\n"
     ]
    },
    {
     "name": "stdout",
     "output_type": "stream",
     "text": [
      "['Apple', 'Ball', 'Cat', 'Dog', 'Egg']\n"
     ]
    }
   ],
   "source": [
    "#WAP to take values from user and add it into list\n",
    "#l = list()\n",
    "#l = []\n",
    "l = [] #empty list, will be filled by asking with user\n",
    "n = int(input(\"Enter n = \"))\n",
    "for i in range(n):\n",
    "    x = input(\"Enter x = \")\n",
    "\n",
    "#append() insert() extend()\n",
    "    l.append(x) #We haven't written l = l.append(), which proves list is mutable where the original value is changed\n",
    "print(l)"
   ]
  },
  {
   "cell_type": "code",
   "execution_count": 21,
   "id": "e5d3b86e-bfcd-4693-af4a-98be19fd5fa3",
   "metadata": {},
   "outputs": [
    {
     "name": "stdin",
     "output_type": "stream",
     "text": [
      "Enter n =  10\n",
      "Enter x =  23\n",
      "Enter x =  34\n",
      "Enter x =  6\n",
      "Enter x =  78\n",
      "Enter x =  65\n",
      "Enter x =  43\n",
      "Enter x =  56\n",
      "Enter x =  78\n",
      "Enter x =  43\n",
      "Enter x =  222\n"
     ]
    },
    {
     "name": "stdout",
     "output_type": "stream",
     "text": [
      "[23, 34, 6, 78, 65, 43, 56, 78, 43, 222]\n"
     ]
    }
   ],
   "source": [
    "#WAP to take values from user and add it into list\n",
    "#l = list()\n",
    "#l = []\n",
    "l = [] #empty list, will be filled by asking with user\n",
    "n = int(input(\"Enter n = \"))\n",
    "for i in range(n):\n",
    "    x = int(input(\"Enter x = \"))\n",
    "\n",
    "#append() insert() extend()\n",
    "    l.append(x) #We haven't written l = l.append(), which proves list is mutable where the original value is changed\n",
    "print(l)"
   ]
  },
  {
   "cell_type": "code",
   "execution_count": 26,
   "id": "ef43cd56-e431-4afd-b3fd-5d429d944f7f",
   "metadata": {},
   "outputs": [
    {
     "name": "stdout",
     "output_type": "stream",
     "text": [
      "The sum of all the values =  648\n",
      "The min value =  6\n",
      "The max value =  222\n",
      "The average value =  64.8\n",
      "[6, 23, 34, 43, 43, 56, 65, 78, 78, 222]\n"
     ]
    }
   ],
   "source": [
    "print(\"The sum of all the values = \",sum(l))\n",
    "print(\"The min value = \", min(l))\n",
    "print(\"The max value = \", max(l))\n",
    "print(\"The average value = \", sum(l)/len(l))\n",
    "l.sort()\n",
    "print(l) #mutable, orignial data has been changed"
   ]
  },
  {
   "cell_type": "code",
   "execution_count": 27,
   "id": "059823ff-53c8-42d0-b828-56dad9240226",
   "metadata": {},
   "outputs": [
    {
     "name": "stdout",
     "output_type": "stream",
     "text": [
      "The sum of all the values =  648\n",
      "The min value =  6\n",
      "The max value =  222\n",
      "The average value =  64.8\n",
      "[6, 23, 34, 43, 43, 56, 65, 78, 78, 222]\n",
      "[222, 78, 78, 65, 56, 43, 43, 34, 23, 6]\n"
     ]
    }
   ],
   "source": [
    "#for descending order\n",
    "print(\"The sum of all the values = \",sum(l))\n",
    "print(\"The min value = \", min(l))\n",
    "print(\"The max value = \", max(l))\n",
    "print(\"The average value = \", sum(l)/len(l))\n",
    "l.sort() #this means apply sort() function in list 'l'\n",
    "print(l) #mutable, original data has been changed\n",
    "l.reverse() #there is no descending order function, so use reverse function instead\n",
    "print(l)"
   ]
  },
  {
   "cell_type": "code",
   "execution_count": 30,
   "id": "dcbbdbe3-5846-4c05-b03c-9de46baa1c68",
   "metadata": {},
   "outputs": [
    {
     "name": "stdout",
     "output_type": "stream",
     "text": [
      "['Ant', 'Apple', 'Ball', 'Cat', 'Xray', 'banana']\n"
     ]
    }
   ],
   "source": [
    "#string\n",
    "a = [\"Ball\", \"Cat\", \"Apple\", \"Ant\", \"banana\", \"Xray\"] #priorities to special character, numbers, upper case and lower case\n",
    "a.sort() #it changes the original value, it cannot be printed\n",
    "print(a) #banana is printed last as 'b' is in small letter"
   ]
  },
  {
   "cell_type": "code",
   "execution_count": 32,
   "id": "af2cb603-3714-4b5a-9356-37ab17ecb9d1",
   "metadata": {},
   "outputs": [
    {
     "name": "stdout",
     "output_type": "stream",
     "text": [
      "['banana', 'Xray', 'Cat', 'Ball', 'Apple', 'Ant']\n",
      "['Ant', 'Apple', 'Ball', 'Cat', 'Xray', 'banana']\n"
     ]
    }
   ],
   "source": [
    "a = [\"Ball\", \"Cat\", \"Apple\", \"Ant\", \"banana\", \"Xray\"] #priorities to special character, numbers, upper case and lower case\n",
    "a.sort(reverse = True) #do reverse\n",
    "print(a)\n",
    "a.sort(reverse = False) #don't do reverse, no need to write 'reverse=false', it could be just a.sort()\n",
    "print(a)"
   ]
  },
  {
   "cell_type": "code",
   "execution_count": 33,
   "id": "e2370f9f-7718-443e-932e-c0bdd40739a3",
   "metadata": {},
   "outputs": [
    {
     "data": {
      "text/plain": [
       "['Ball', 'Cat', 'Apple', 'Ant', 'banana', 'Xray', 'Fish']"
      ]
     },
     "execution_count": 33,
     "metadata": {},
     "output_type": "execute_result"
    }
   ],
   "source": [
    "#append()\n",
    "a = [\"Ball\", \"Cat\", \"Apple\", \"Ant\", \"banana\", \"Xray\"]\n",
    "a.append(\"Fish\") #apend fish to the last \n",
    "a #print(a)"
   ]
  },
  {
   "cell_type": "code",
   "execution_count": 34,
   "id": "39f440fd-6760-4dbf-8c26-e89d9c163101",
   "metadata": {},
   "outputs": [
    {
     "data": {
      "text/plain": [
       "['Ball', 'Fish', 'Cat', 'Apple', 'Ant', 'banana', 'Xray']"
      ]
     },
     "execution_count": 34,
     "metadata": {},
     "output_type": "execute_result"
    }
   ],
   "source": [
    "#insert() inserting values in any indexes\n",
    "a = [\"Ball\", \"Cat\", \"Apple\", \"Ant\", \"banana\", \"Xray\"]\n",
    "a.insert(1,\"Fish\")\n",
    "a #print(a)"
   ]
  },
  {
   "cell_type": "code",
   "execution_count": 35,
   "id": "0ee155e8-0e26-4c89-a9c7-33b701c7459d",
   "metadata": {},
   "outputs": [
    {
     "name": "stdout",
     "output_type": "stream",
     "text": [
      "['Ball', 'Cat', 'Apple', 'Ant', 'banana', 'Xray', 1, 2, 3, 4, 5]\n"
     ]
    }
   ],
   "source": [
    "#extend()\n",
    "a = [\"Ball\", \"Cat\", \"Apple\", \"Ant\", \"banana\", \"Xray\"]\n",
    "b = [1,2,3,4,5]\n",
    "a.extend(b)\n",
    "print(a)"
   ]
  },
  {
   "cell_type": "code",
   "execution_count": 40,
   "id": "68d5c050-2447-41ef-963e-8d3d5325cf1a",
   "metadata": {},
   "outputs": [
    {
     "name": "stdout",
     "output_type": "stream",
     "text": [
      "['Ball', 'Cat', 'Apple', 'Ant', 'banana', 'Xray', 1, 2, 3, 4, 5]\n"
     ]
    }
   ],
   "source": [
    "#concat() this is similar to using extend() function\n",
    "a = [\"Ball\", \"Cat\", \"Apple\", \"Ant\", \"banana\", \"Xray\"]\n",
    "b = [1,2,3,4,5]\n",
    "a = a+b #could be c=a+b \n",
    "print(a)"
   ]
  },
  {
   "cell_type": "raw",
   "id": "e8ebc396-0e22-4359-9e6a-63a3e792698c",
   "metadata": {},
   "source": [
    "#CRUD = Create Read Update Delete\n",
    "#print(max()) can be done\n",
    "#print(l.extend) can not be done\n",
    "#print(a+b) can be done\n",
    "#print(a=a+b) can not be done"
   ]
  },
  {
   "cell_type": "code",
   "execution_count": 41,
   "id": "568dd71b-bf20-4229-9789-e0f064bc1b07",
   "metadata": {},
   "outputs": [
    {
     "name": "stdout",
     "output_type": "stream",
     "text": [
      "Ball\n"
     ]
    }
   ],
   "source": [
    "#Update or Edit\n",
    "a = [\"Ball\", \"Cat\", \"Apple\", \"Ant\", \"banana\", \"Xray\"]\n",
    "print(a[0])"
   ]
  },
  {
   "cell_type": "code",
   "execution_count": 42,
   "id": "56ca1546-b60e-4fa3-b8ec-0e5b95e1f84e",
   "metadata": {},
   "outputs": [
    {
     "name": "stdout",
     "output_type": "stream",
     "text": [
      "['ball', 'Cat', 'Apple', 'Ant', 'banana', 'Xray']\n"
     ]
    }
   ],
   "source": [
    "#Update or Edit, there is no function for update, use your logic\n",
    "a = [\"Ball\", \"Cat\", \"Apple\", \"Ant\", \"banana\", \"Xray\"]\n",
    "a[0] = \"ball\" #with small b\n",
    "print(a)"
   ]
  },
  {
   "cell_type": "code",
   "execution_count": 45,
   "id": "29df9aed-694b-4011-98ac-76d2f46f6253",
   "metadata": {},
   "outputs": [
    {
     "name": "stdout",
     "output_type": "stream",
     "text": [
      "['bat', 'cow', 'Apple', 'Ant', 'banana', 'Xray']\n"
     ]
    }
   ],
   "source": [
    "#changing multiple values, it works in a sequential manner\n",
    "a[0:2] = [\"bat\",\"cow\"]\n",
    "print(a)"
   ]
  },
  {
   "cell_type": "code",
   "execution_count": 46,
   "id": "f80b0120-1a14-481e-84a2-c056bc35840b",
   "metadata": {},
   "outputs": [
    {
     "name": "stdout",
     "output_type": "stream",
     "text": [
      "['Mango', 'Apple', 'Ant', 'banana', 'Xray']\n"
     ]
    }
   ],
   "source": [
    "a = [\"Ball\", \"Cat\", \"Apple\", \"Ant\", \"banana\", \"Xray\"]\n",
    "a[0:2] = [\"Mango\"] #replaces the first two values with Mango\n",
    "print(a)"
   ]
  }
 ],
 "metadata": {
  "kernelspec": {
   "display_name": "Python 3 (ipykernel)",
   "language": "python",
   "name": "python3"
  },
  "language_info": {
   "codemirror_mode": {
    "name": "ipython",
    "version": 3
   },
   "file_extension": ".py",
   "mimetype": "text/x-python",
   "name": "python",
   "nbconvert_exporter": "python",
   "pygments_lexer": "ipython3",
   "version": "3.13.3"
  }
 },
 "nbformat": 4,
 "nbformat_minor": 5
}
