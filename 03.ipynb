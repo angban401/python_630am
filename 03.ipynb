{
 "cells": [
  {
   "cell_type": "code",
   "execution_count": 1,
   "id": "f96edaf4-168e-496f-a38f-d9d813f2e1ef",
   "metadata": {},
   "outputs": [
    {
     "name": "stdout",
     "output_type": "stream",
     "text": [
      "SushanShakya\n"
     ]
    }
   ],
   "source": [
    "#Concat\n",
    "fname = \"Sushan\"\n",
    "lname = \"Shakya\"\n",
    "print(fname + lname)"
   ]
  },
  {
   "cell_type": "code",
   "execution_count": 2,
   "id": "5de5a445-1644-4c77-b9b6-23fc2e427d6d",
   "metadata": {},
   "outputs": [
    {
     "name": "stdout",
     "output_type": "stream",
     "text": [
      "Sushan Shakya\n"
     ]
    }
   ],
   "source": [
    "#Concat\n",
    "fname = \"Sushan\"\n",
    "lname = \"Shakya\"\n",
    "print(fname + \" \" + lname)"
   ]
  },
  {
   "cell_type": "code",
   "execution_count": 3,
   "id": "0ebbdf24-8c58-4e2a-b283-51a85e9b9be6",
   "metadata": {},
   "outputs": [
    {
     "name": "stdout",
     "output_type": "stream",
     "text": [
      "My name is Sushan Shakya\n"
     ]
    }
   ],
   "source": [
    "#Concat\n",
    "fname = \"Sushan\"\n",
    "lname = \"Shakya\"\n",
    "print(\"My name is \" + fname + \" \" + lname) #here it has catcated four string, it is tedius. To solve we use string .format() and f-string"
   ]
  },
  {
   "cell_type": "code",
   "execution_count": 4,
   "id": "5ebe1299-4f40-43f6-8ee1-adf87e0235a6",
   "metadata": {},
   "outputs": [
    {
     "name": "stdout",
     "output_type": "stream",
     "text": [
      "My name is Sushan Shakya\n",
      "My name is Sushan Shakya\n"
     ]
    }
   ],
   "source": [
    "#String formating\n",
    "fname = \"Sushan\"\n",
    "lname = \"Shakya\"\n",
    "print(\"My name is \" + fname + \" \" + lname)\n",
    "print(\"My name is {} {}\".format(fname,lname))"
   ]
  },
  {
   "cell_type": "code",
   "execution_count": 5,
   "id": "d1305095-65cb-4a8d-8653-458089927e09",
   "metadata": {},
   "outputs": [
    {
     "name": "stdout",
     "output_type": "stream",
     "text": [
      "My name is Sushan Shakya\n",
      "My name is Sushan Shakya\n",
      "My name is Sushan Shakya\n"
     ]
    }
   ],
   "source": [
    "#Now with the f-string, we get the same result, but this one is more efficient than the previous two style\n",
    "fname = \"Sushan\"\n",
    "lname = \"Shakya\"\n",
    "print(\"My name is \" + fname + \" \" + lname)\n",
    "print(\"My name is {} {}\".format(fname,lname))\n",
    "print(f\"My name is {fname} {lname}\")"
   ]
  },
  {
   "cell_type": "code",
   "execution_count": 7,
   "id": "7c0b30a5-71b0-40ff-bd6c-cec755080888",
   "metadata": {},
   "outputs": [
    {
     "name": "stdout",
     "output_type": "stream",
     "text": [
      "He/she can vote\n"
     ]
    }
   ],
   "source": [
    "#Control structures (if else, looping)\n",
    "age = 18\n",
    "\n",
    "if age >= 18:\n",
    "    print(\"He/she can vote\")\n",
    "else:\n",
    "    print(\"He/she cannot vote\")"
   ]
  },
  {
   "cell_type": "code",
   "execution_count": 9,
   "id": "390d2b68-a6e2-49c1-b82b-2b1e6d82c651",
   "metadata": {},
   "outputs": [
    {
     "name": "stdin",
     "output_type": "stream",
     "text": [
      "Enter your age =  5\n"
     ]
    },
    {
     "name": "stdout",
     "output_type": "stream",
     "text": [
      "He/she cannot vote\n"
     ]
    }
   ],
   "source": [
    "#Control structures (if else, looping)\n",
    "age = int(input(\"Enter your age = \"))\n",
    "\n",
    "if age >= 18:\n",
    "    print(\"He/she can vote\")\n",
    "else:\n",
    "    print(\"He/she cannot vote\")"
   ]
  },
  {
   "cell_type": "code",
   "execution_count": 10,
   "id": "5f26d9d7-82cb-4d16-9097-947aa5feae8d",
   "metadata": {},
   "outputs": [
    {
     "name": "stdin",
     "output_type": "stream",
     "text": [
      "Enter your age =  -19\n"
     ]
    },
    {
     "name": "stdout",
     "output_type": "stream",
     "text": [
      "He/she cannot vote\n"
     ]
    }
   ],
   "source": [
    "#Control structures (if else, looping)\n",
    "age = int(input(\"Enter your age = \"))\n",
    "\n",
    "if age >= 18:\n",
    "    print(\"He/she can vote\")\n",
    "else:\n",
    "    print(\"He/she cannot vote\")"
   ]
  },
  {
   "cell_type": "code",
   "execution_count": 11,
   "id": "7a2977b9-3d8d-4cff-8f63-0adfb410cb66",
   "metadata": {},
   "outputs": [
    {
     "name": "stdin",
     "output_type": "stream",
     "text": [
      "Enter your age =  -19\n"
     ]
    },
    {
     "name": "stdout",
     "output_type": "stream",
     "text": [
      "Invalid Age\n"
     ]
    }
   ],
   "source": [
    "#Control structures (if else, looping)\n",
    "age = int(input(\"Enter your age = \"))\n",
    "\n",
    "if age >= 18:\n",
    "    print(\"He/she can vote\")\n",
    "elif age <=0:\n",
    "    print(\"Invalid Age\")\n",
    "else:\n",
    "    print(\"He/she cannot vote\")"
   ]
  },
  {
   "cell_type": "code",
   "execution_count": 17,
   "id": "d4a193b4-4efa-4629-a409-e637e2960fba",
   "metadata": {},
   "outputs": [
    {
     "name": "stdin",
     "output_type": "stream",
     "text": [
      "Enter the number =  3\n"
     ]
    },
    {
     "name": "stdout",
     "output_type": "stream",
     "text": [
      "feez\n"
     ]
    }
   ],
   "source": [
    "#Feezbuzz\n",
    "num = int(input(\"Enter the number = \"))\n",
    "\n",
    "if num%3 == 0 and num%5 == 0:\n",
    "    print(\"feezbuzz\")\n",
    "elif num % 3 == 0:\n",
    "    print(\"feez\")\n",
    "elif num % 5 == 0:\n",
    "    print(\"buzz\")\n",
    "else:\n",
    "    print(num)"
   ]
  },
  {
   "cell_type": "code",
   "execution_count": 18,
   "id": "7e4b1a63-ef00-44f2-85f9-d2b12d0e5d0d",
   "metadata": {},
   "outputs": [
    {
     "name": "stdin",
     "output_type": "stream",
     "text": [
      "Enter the number =  5\n"
     ]
    },
    {
     "name": "stdout",
     "output_type": "stream",
     "text": [
      "buzz\n"
     ]
    }
   ],
   "source": [
    "#Feezbuzz\n",
    "num = int(input(\"Enter the number = \"))\n",
    "\n",
    "if num%3 == 0 and num%5 == 0:\n",
    "    print(\"feezbuzz\")\n",
    "elif num % 3 == 0:\n",
    "    print(\"feez\")\n",
    "elif num % 5 == 0:\n",
    "    print(\"buzz\")\n",
    "else:\n",
    "    print(num)"
   ]
  },
  {
   "cell_type": "code",
   "execution_count": 19,
   "id": "d85fd31a-c3f6-40b9-9e0e-0a9d27fb31db",
   "metadata": {},
   "outputs": [
    {
     "name": "stdin",
     "output_type": "stream",
     "text": [
      "Enter the number =  15\n"
     ]
    },
    {
     "name": "stdout",
     "output_type": "stream",
     "text": [
      "feezbuzz\n"
     ]
    }
   ],
   "source": [
    "#Feezbuzz\n",
    "num = int(input(\"Enter the number = \"))\n",
    "\n",
    "if num%3 == 0 and num%5 == 0:\n",
    "    print(\"feezbuzz\")\n",
    "elif num % 3 == 0:\n",
    "    print(\"feez\")\n",
    "elif num % 5 == 0:\n",
    "    print(\"buzz\")\n",
    "else:\n",
    "    print(num)"
   ]
  },
  {
   "cell_type": "markdown",
   "id": "e4c5774d-3e3f-4823-8b75-1c70b49d2d1c",
   "metadata": {},
   "source": [
    "###### Feezbuzz\n",
    "num = int(input(\"Enter the number = \"))\n",
    "\n",
    "if num%3 == 0 and num%5 == 0:\n",
    "    print(\"feezbuzz\")\n",
    "elif num % 3 == 0:\n",
    "    print(\"feez\")\n",
    "elif num % 5 == 0:\n",
    "    print(\"buzz\")\n",
    "else:\n",
    "    print(num)"
   ]
  },
  {
   "cell_type": "markdown",
   "id": "ef73c0f9-c899-41db-ad57-ea17665b65cc",
   "metadata": {},
   "source": [
    "num = int(input(\"enter no\"))\n",
    "\n",
    "if num%3==0 and num%5==0:\n",
    "    print(\"feezbuzz\")\n",
    "elif num%3==0:\n",
    "    print(\"Feez\")\n",
    "elif num%5==0:\n",
    "    print(\"buzz\")\n",
    "else:\n",
    "    print(num)"
   ]
  },
  {
   "cell_type": "code",
   "execution_count": null,
   "id": "3761a372-bd1f-422a-9fda-00701ee64132",
   "metadata": {},
   "outputs": [],
   "source": []
  }
 ],
 "metadata": {
  "kernelspec": {
   "display_name": "Python 3 (ipykernel)",
   "language": "python",
   "name": "python3"
  },
  "language_info": {
   "codemirror_mode": {
    "name": "ipython",
    "version": 3
   },
   "file_extension": ".py",
   "mimetype": "text/x-python",
   "name": "python",
   "nbconvert_exporter": "python",
   "pygments_lexer": "ipython3",
   "version": "3.13.3"
  }
 },
 "nbformat": 4,
 "nbformat_minor": 5
}
