{
 "cells": [
  {
   "cell_type": "code",
   "execution_count": 2,
   "id": "72decd7b-a943-486b-9510-2bd790debeba",
   "metadata": {},
   "outputs": [
    {
     "ename": "IndentationError",
     "evalue": "expected an indented block after 'try' statement on line 8 (1145151860.py, line 11)",
     "output_type": "error",
     "traceback": [
      "  \u001b[36mCell\u001b[39m\u001b[36m \u001b[39m\u001b[32mIn[2]\u001b[39m\u001b[32m, line 11\u001b[39m\n\u001b[31m    \u001b[39m\u001b[31mexcept:\u001b[39m\n    ^\n\u001b[31mIndentationError\u001b[39m\u001b[31m:\u001b[39m expected an indented block after 'try' statement on line 8\n"
     ]
    }
   ],
   "source": [
    "#Exception\n",
    "\n",
    "#Exception is error that happens during execution of program\n",
    "#Python generate exception that can be handled which avoids our program from crashing\n",
    "\n",
    "#syntax\n",
    "\n",
    "#try: \n",
    "    #statment in try block\n",
    "\n",
    "#except:\n",
    "    #executed when error in try blcok"
   ]
  },
  {
   "cell_type": "code",
   "execution_count": null,
   "id": "87320d63-5f67-402d-bd05-34fedc73704a",
   "metadata": {},
   "outputs": [],
   "source": [
    "#try:\n",
    "#    <code that can raise exception>\n",
    "#except:\n",
    "#    <what to do if an exception occur>"
   ]
  },
  {
   "cell_type": "code",
   "execution_count": 4,
   "id": "8b385a75-0238-4926-a6c2-9ca08785192b",
   "metadata": {},
   "outputs": [
    {
     "name": "stdin",
     "output_type": "stream",
     "text": [
      "Enter a =  2\n",
      "Enter b =  3\n"
     ]
    },
    {
     "name": "stdout",
     "output_type": "stream",
     "text": [
      "5\n"
     ]
    }
   ],
   "source": [
    "try:\n",
    "    a = int(input(\"Enter a = \"))\n",
    "    b = int(input(\"Enter b = \"))\n",
    "    c = a+b\n",
    "    print(c)\n",
    "except:\n",
    "    print(\"Please enter integer value\")"
   ]
  },
  {
   "cell_type": "code",
   "execution_count": 5,
   "id": "bc4ce0d1-6c54-4afd-b44a-c9e3cd35ce5b",
   "metadata": {},
   "outputs": [
    {
     "name": "stdin",
     "output_type": "stream",
     "text": [
      "Enter a =  adfadsfdf\n"
     ]
    },
    {
     "name": "stdout",
     "output_type": "stream",
     "text": [
      "Please enter integer value\n"
     ]
    }
   ],
   "source": [
    "try:\n",
    "    a = int(input(\"Enter a = \"))\n",
    "    b = int(input(\"Enter b = \"))\n",
    "    c = a+b\n",
    "    print(c)\n",
    "except:\n",
    "    print(\"Please enter integer value\")"
   ]
  },
  {
   "cell_type": "code",
   "execution_count": 2,
   "id": "d8d408ea-3980-41bc-8d85-5ff5ba2a044e",
   "metadata": {},
   "outputs": [
    {
     "name": "stdout",
     "output_type": "stream",
     "text": [
      "There is no such file\n"
     ]
    }
   ],
   "source": [
    "try:\n",
    "    file = open('listdata.csv')\n",
    "    data = file.read()\n",
    "    print(data)\n",
    "    file.close()\n",
    "except:\n",
    "    print(\"There is no such file\")"
   ]
  },
  {
   "cell_type": "code",
   "execution_count": 3,
   "id": "2cec72f1-d4fd-4d7c-afbf-b9a98c5be0d4",
   "metadata": {},
   "outputs": [
    {
     "name": "stdout",
     "output_type": "stream",
     "text": [
      ",sn,name,age,address\n",
      "0,1,Ram,34,Kathmandu\n",
      "1,2,Shyam,56,Bhaktapur\n",
      "2,3,Hari,33,Lalitpur\n",
      "\n"
     ]
    }
   ],
   "source": [
    "try:\n",
    "    file = open('list_data.csv')\n",
    "    data = file.read()\n",
    "    print(data)\n",
    "    file.close()\n",
    "except:\n",
    "    print(\"There is no such file\")"
   ]
  },
  {
   "cell_type": "code",
   "execution_count": 5,
   "id": "131fe5d3-36fb-4154-bb1e-9283abc872e0",
   "metadata": {},
   "outputs": [
    {
     "name": "stdin",
     "output_type": "stream",
     "text": [
      "Enter a =  adfadf\n"
     ]
    },
    {
     "ename": "ValueError",
     "evalue": "invalid literal for int() with base 10: 'adfadf'",
     "output_type": "error",
     "traceback": [
      "\u001b[31m---------------------------------------------------------------------------\u001b[39m",
      "\u001b[31mValueError\u001b[39m                                Traceback (most recent call last)",
      "\u001b[36mCell\u001b[39m\u001b[36m \u001b[39m\u001b[32mIn[5]\u001b[39m\u001b[32m, line 1\u001b[39m\n\u001b[32m----> \u001b[39m\u001b[32m1\u001b[39m a = \u001b[38;5;28;43mint\u001b[39;49m\u001b[43m(\u001b[49m\u001b[38;5;28;43minput\u001b[39;49m\u001b[43m(\u001b[49m\u001b[33;43m\"\u001b[39;49m\u001b[33;43mEnter a = \u001b[39;49m\u001b[33;43m\"\u001b[39;49m\u001b[43m)\u001b[49m\u001b[43m)\u001b[49m\n",
      "\u001b[31mValueError\u001b[39m: invalid literal for int() with base 10: 'adfadf'"
     ]
    }
   ],
   "source": [
    "a = int(input(\"Enter a = \"))"
   ]
  },
  {
   "cell_type": "code",
   "execution_count": 6,
   "id": "4c058ef8-1199-4c2a-8d34-cab50945aa13",
   "metadata": {},
   "outputs": [
    {
     "ename": "ZeroDivisionError",
     "evalue": "division by zero",
     "output_type": "error",
     "traceback": [
      "\u001b[31m---------------------------------------------------------------------------\u001b[39m",
      "\u001b[31mZeroDivisionError\u001b[39m                         Traceback (most recent call last)",
      "\u001b[36mCell\u001b[39m\u001b[36m \u001b[39m\u001b[32mIn[6]\u001b[39m\u001b[32m, line 1\u001b[39m\n\u001b[32m----> \u001b[39m\u001b[32m1\u001b[39m \u001b[32;43m10\u001b[39;49m\u001b[43m/\u001b[49m\u001b[32;43m0\u001b[39;49m\n",
      "\u001b[31mZeroDivisionError\u001b[39m: division by zero"
     ]
    }
   ],
   "source": [
    "10/0"
   ]
  },
  {
   "cell_type": "code",
   "execution_count": 7,
   "id": "10dfcb77-748f-43e1-8c2a-7ee36a0093dc",
   "metadata": {},
   "outputs": [
    {
     "name": "stdin",
     "output_type": "stream",
     "text": [
      "Enter a =  10\n",
      "Enter b =  0\n"
     ]
    },
    {
     "name": "stdout",
     "output_type": "stream",
     "text": [
      "Please enter integer value\n"
     ]
    }
   ],
   "source": [
    "try:\n",
    "    a = int(input(\"Enter a = \"))\n",
    "    b = int(input(\"Enter b = \"))\n",
    "    c = a/b\n",
    "    print(c)\n",
    "except:\n",
    "    print(\"Please enter integer value\")"
   ]
  },
  {
   "cell_type": "code",
   "execution_count": 8,
   "id": "01963861-be51-4b82-a016-120d1903845f",
   "metadata": {},
   "outputs": [
    {
     "name": "stdin",
     "output_type": "stream",
     "text": [
      "Enter a =  adfdf\n"
     ]
    },
    {
     "name": "stdout",
     "output_type": "stream",
     "text": [
      "Please enter integer value\n"
     ]
    }
   ],
   "source": [
    "try:\n",
    "    a = int(input(\"Enter a = \"))\n",
    "    b = int(input(\"Enter b = \"))\n",
    "    c = a/b\n",
    "    print(c)\n",
    "except ValueError: #ValueError is predefined and can be found in the documentation\n",
    "    print(\"Please enter integer value\")\n",
    "\n",
    "except ZeroDivisionError: #ZeroDivisionError is a predefined error and can be found in the documentation\n",
    "    print(\"Value of b can not be zero\")"
   ]
  },
  {
   "cell_type": "code",
   "execution_count": 9,
   "id": "599a378a-98e5-4850-b655-2a913c5c6f4d",
   "metadata": {},
   "outputs": [
    {
     "name": "stdin",
     "output_type": "stream",
     "text": [
      "Enter a =  10\n",
      "Enter b =  0\n"
     ]
    },
    {
     "name": "stdout",
     "output_type": "stream",
     "text": [
      "Value of b can not be zero\n"
     ]
    }
   ],
   "source": [
    "try:\n",
    "    a = int(input(\"Enter a = \"))\n",
    "    b = int(input(\"Enter b = \"))\n",
    "    c = a/b\n",
    "    print(c)\n",
    "except ValueError:\n",
    "    print(\"Please enter integer value\")\n",
    "\n",
    "except ZeroDivisionError:\n",
    "    print(\"Value of b can not be zero\")"
   ]
  },
  {
   "cell_type": "code",
   "execution_count": 10,
   "id": "5645f7c0-5942-493c-8f41-8a8a5c18dcec",
   "metadata": {},
   "outputs": [
    {
     "name": "stdin",
     "output_type": "stream",
     "text": [
      "Enter a =  10\n",
      "Enter b =  2\n"
     ]
    },
    {
     "name": "stdout",
     "output_type": "stream",
     "text": [
      "5.0\n"
     ]
    }
   ],
   "source": [
    "#try,except,else\n",
    "try: #this block those code that can have possible errors\n",
    "    a = int(input(\"Enter a = \"))\n",
    "    b = int(input(\"Enter b = \"))\n",
    "    c = a/b\n",
    "  \n",
    "except ValueError:\n",
    "    print(\"Please enter integer value\")\n",
    "\n",
    "except ZeroDivisionError:\n",
    "    print(\"Value of b can not be zero\")\n",
    "\n",
    "else:\n",
    "    print(c) #print function won't have any error, that's why it is placed in the else block\n"
   ]
  },
  {
   "cell_type": "code",
   "execution_count": 11,
   "id": "592a701c-5d07-45d8-8458-062d0dc816d4",
   "metadata": {},
   "outputs": [
    {
     "ename": "AssertionError",
     "evalue": "",
     "output_type": "error",
     "traceback": [
      "\u001b[31m---------------------------------------------------------------------------\u001b[39m",
      "\u001b[31mAssertionError\u001b[39m                            Traceback (most recent call last)",
      "\u001b[36mCell\u001b[39m\u001b[36m \u001b[39m\u001b[32mIn[11]\u001b[39m\u001b[32m, line 5\u001b[39m\n\u001b[32m      2\u001b[39m a = \u001b[32m10\u001b[39m\n\u001b[32m      3\u001b[39m b = \u001b[32m5\u001b[39m\n\u001b[32m----> \u001b[39m\u001b[32m5\u001b[39m \u001b[38;5;28;01massert\u001b[39;00m a<b\n",
      "\u001b[31mAssertionError\u001b[39m: "
     ]
    }
   ],
   "source": [
    "#assert statement\n",
    "a = 10\n",
    "b = 5\n",
    "\n",
    "assert a<b"
   ]
  },
  {
   "cell_type": "code",
   "execution_count": 13,
   "id": "7df095d9-c569-4442-8b64-dc783b3f59fd",
   "metadata": {},
   "outputs": [
    {
     "name": "stdin",
     "output_type": "stream",
     "text": [
      "Enter age =  ten\n"
     ]
    },
    {
     "ename": "ValueError",
     "evalue": "invalid literal for int() with base 10: 'ten'",
     "output_type": "error",
     "traceback": [
      "\u001b[31m---------------------------------------------------------------------------\u001b[39m",
      "\u001b[31mValueError\u001b[39m                                Traceback (most recent call last)",
      "\u001b[36mCell\u001b[39m\u001b[36m \u001b[39m\u001b[32mIn[13]\u001b[39m\u001b[32m, line 1\u001b[39m\n\u001b[32m----> \u001b[39m\u001b[32m1\u001b[39m age = \u001b[38;5;28;43mint\u001b[39;49m\u001b[43m(\u001b[49m\u001b[38;5;28;43minput\u001b[39;49m\u001b[43m(\u001b[49m\u001b[33;43m\"\u001b[39;49m\u001b[33;43mEnter age = \u001b[39;49m\u001b[33;43m\"\u001b[39;49m\u001b[43m)\u001b[49m\u001b[43m)\u001b[49m\n",
      "\u001b[31mValueError\u001b[39m: invalid literal for int() with base 10: 'ten'"
     ]
    }
   ],
   "source": [
    "age = int(input(\"Enter age = \"))"
   ]
  },
  {
   "cell_type": "code",
   "execution_count": 15,
   "id": "882a9a2e-5fd2-47a1-aa95-1d427b9e77be",
   "metadata": {},
   "outputs": [
    {
     "name": "stdin",
     "output_type": "stream",
     "text": [
      "Enter age =  9\n"
     ]
    },
    {
     "name": "stdout",
     "output_type": "stream",
     "text": [
      "You are underage!\n"
     ]
    }
   ],
   "source": [
    "try:\n",
    "    age = int(input(\"Enter age = \"))\n",
    "    assert age > 10  #this can be done with if else, but this is better and easier\n",
    "except ValueError:\n",
    "    print(\"Enter only integer value\")\n",
    "except AssertionError:\n",
    "    print(\"You are underage!\")"
   ]
  },
  {
   "cell_type": "code",
   "execution_count": 16,
   "id": "83574a1b-88af-4f98-96fd-bc71219dae54",
   "metadata": {},
   "outputs": [
    {
     "name": "stdin",
     "output_type": "stream",
     "text": [
      "Enter age =  ten\n"
     ]
    },
    {
     "name": "stdout",
     "output_type": "stream",
     "text": [
      "Enter only integer value\n"
     ]
    }
   ],
   "source": [
    "try:\n",
    "    age = int(input(\"Enter age = \"))\n",
    "    assert age > 10  #this can be done with if else, but this is better and easier\n",
    "except ValueError:\n",
    "    print(\"Enter only integer value\")\n",
    "except AssertionError:\n",
    "    print(\"You are underage!\")"
   ]
  },
  {
   "cell_type": "code",
   "execution_count": null,
   "id": "7d157776-7ee6-433d-aa43-3800db992ee9",
   "metadata": {},
   "outputs": [],
   "source": [
    "#try,except,else,finally\n",
    "#whether there is error or not, finally block will run"
   ]
  },
  {
   "cell_type": "code",
   "execution_count": 19,
   "id": "ba9fa70a-f483-4bb9-8709-5b2d55cef6f5",
   "metadata": {},
   "outputs": [
    {
     "ename": "AssertionError",
     "evalue": "",
     "output_type": "error",
     "traceback": [
      "\u001b[31m---------------------------------------------------------------------------\u001b[39m",
      "\u001b[31mAssertionError\u001b[39m                            Traceback (most recent call last)",
      "\u001b[36mCell\u001b[39m\u001b[36m \u001b[39m\u001b[32mIn[19]\u001b[39m\u001b[32m, line 3\u001b[39m\n\u001b[32m      1\u001b[39m \u001b[38;5;66;03m#raise exception\u001b[39;00m\n\u001b[32m----> \u001b[39m\u001b[32m3\u001b[39m \u001b[38;5;28;01mraise\u001b[39;00m \u001b[38;5;167;01mAssertionError\u001b[39;00m\n\u001b[32m      4\u001b[39m \u001b[38;5;28;01mraise\u001b[39;00m \u001b[38;5;167;01mValueError\u001b[39;00m\n",
      "\u001b[31mAssertionError\u001b[39m: "
     ]
    }
   ],
   "source": [
    "#raise exception\n",
    "\n",
    "raise AssertionError"
   ]
  },
  {
   "cell_type": "code",
   "execution_count": 20,
   "id": "69732f26-9134-4d91-8d7e-47183ff9898b",
   "metadata": {},
   "outputs": [
    {
     "ename": "ValueError",
     "evalue": "",
     "output_type": "error",
     "traceback": [
      "\u001b[31m---------------------------------------------------------------------------\u001b[39m",
      "\u001b[31mValueError\u001b[39m                                Traceback (most recent call last)",
      "\u001b[36mCell\u001b[39m\u001b[36m \u001b[39m\u001b[32mIn[20]\u001b[39m\u001b[32m, line 1\u001b[39m\n\u001b[32m----> \u001b[39m\u001b[32m1\u001b[39m \u001b[38;5;28;01mraise\u001b[39;00m \u001b[38;5;167;01mValueError\u001b[39;00m\n",
      "\u001b[31mValueError\u001b[39m: "
     ]
    }
   ],
   "source": [
    "raise ValueError"
   ]
  },
  {
   "cell_type": "code",
   "execution_count": 22,
   "id": "0ea7b6ea-f273-4acc-b252-9e5639aaf7cb",
   "metadata": {},
   "outputs": [
    {
     "name": "stdin",
     "output_type": "stream",
     "text": [
      "Enter age =  adsfdf\n"
     ]
    },
    {
     "name": "stdout",
     "output_type": "stream",
     "text": [
      "Please enter int value\n"
     ]
    }
   ],
   "source": [
    "try:\n",
    "    age = int(input(\"Enter age = \"))\n",
    "    if type(age) != int:\n",
    "        raise ValueError\n",
    "    else:\n",
    "        print(\"You entered \",age)\n",
    "except ValueError:\n",
    "    print(\"Please enter int value\")"
   ]
  },
  {
   "cell_type": "code",
   "execution_count": 23,
   "id": "234c326d-5859-436f-a347-c717092182ec",
   "metadata": {},
   "outputs": [
    {
     "name": "stdin",
     "output_type": "stream",
     "text": [
      "Enter age =  23\n"
     ]
    },
    {
     "name": "stdout",
     "output_type": "stream",
     "text": [
      "You entered  23\n"
     ]
    }
   ],
   "source": [
    "try:\n",
    "    age = int(input(\"Enter age = \"))\n",
    "    if type(age) != int:\n",
    "        raise ValueError\n",
    "    else:\n",
    "        print(\"You entered \",age)\n",
    "except ValueError:\n",
    "    print(\"Please enter int value\")"
   ]
  },
  {
   "cell_type": "code",
   "execution_count": 24,
   "id": "ee60a316-1557-49e7-ae3a-e7930bca4e3c",
   "metadata": {},
   "outputs": [
    {
     "name": "stdin",
     "output_type": "stream",
     "text": [
      "Enter usernmae =  ddfdf\n",
      "Enter password =  dsfdf\n"
     ]
    },
    {
     "name": "stdout",
     "output_type": "stream",
     "text": [
      "Username and password do not exist!\n"
     ]
    }
   ],
   "source": [
    "#login\n",
    "username = 'admin'\n",
    "password = 'admin123'\n",
    "\n",
    "try:\n",
    "    username1 = input(\"Enter usernmae = \")\n",
    "    password = input(\"Enter password = \")\n",
    "    if username == username1 and password == password1:\n",
    "        print(\"You are logedin\")\n",
    "    else:\n",
    "        raise AssertionError\n",
    "except:\n",
    "    print(\"Username and password do not exist!\")"
   ]
  },
  {
   "cell_type": "code",
   "execution_count": 1,
   "id": "4c52fc22-43d0-4851-b2fb-e3f62656a644",
   "metadata": {},
   "outputs": [
    {
     "name": "stdin",
     "output_type": "stream",
     "text": [
      "Enter usernmae =  admin\n",
      "Enter password =  sdfadf\n"
     ]
    },
    {
     "name": "stdout",
     "output_type": "stream",
     "text": [
      "Username and password do not exist!\n"
     ]
    },
    {
     "name": "stdin",
     "output_type": "stream",
     "text": [
      "Enter usernmae =  admin\n",
      "Enter password =  a343\n"
     ]
    },
    {
     "name": "stdout",
     "output_type": "stream",
     "text": [
      "Username and password do not exist!\n"
     ]
    },
    {
     "name": "stdin",
     "output_type": "stream",
     "text": [
      "Enter usernmae =  admin\n",
      "Enter password =  admin123\n"
     ]
    },
    {
     "name": "stdout",
     "output_type": "stream",
     "text": [
      "You are logedin\n"
     ]
    }
   ],
   "source": [
    "#login can be done using function\n",
    "username = 'admin'\n",
    "password = 'admin123'\n",
    "\n",
    "def login():\n",
    "    try:\n",
    "        username1 = input(\"Enter usernmae = \")\n",
    "        password1 = input(\"Enter password = \")\n",
    "        if username == username1 and password == password1:\n",
    "            print(\"You are logedin\")\n",
    "        else:\n",
    "            raise AssertionError\n",
    "    except:\n",
    "        print(\"Username and password do not exist!\")\n",
    "        login()\n",
    "login()"
   ]
  },
  {
   "cell_type": "code",
   "execution_count": 2,
   "id": "733aacee-103a-49aa-9d70-dce39f664a1a",
   "metadata": {},
   "outputs": [
    {
     "name": "stdin",
     "output_type": "stream",
     "text": [
      "Enter usernmae =  fadf\n",
      "Enter password =  adfdf\n"
     ]
    },
    {
     "name": "stdout",
     "output_type": "stream",
     "text": [
      "Username and password do not exist!\n"
     ]
    },
    {
     "ename": "UnboundLocalError",
     "evalue": "cannot access local variable 'c' where it is not associated with a value",
     "output_type": "error",
     "traceback": [
      "\u001b[31m---------------------------------------------------------------------------\u001b[39m",
      "\u001b[31mAssertionError\u001b[39m                            Traceback (most recent call last)",
      "\u001b[36mCell\u001b[39m\u001b[36m \u001b[39m\u001b[32mIn[2]\u001b[39m\u001b[32m, line 12\u001b[39m, in \u001b[36mlogin\u001b[39m\u001b[34m()\u001b[39m\n\u001b[32m     11\u001b[39m     \u001b[38;5;28;01melse\u001b[39;00m:\n\u001b[32m---> \u001b[39m\u001b[32m12\u001b[39m         \u001b[38;5;28;01mraise\u001b[39;00m \u001b[38;5;167;01mAssertionError\u001b[39;00m\n\u001b[32m     13\u001b[39m \u001b[38;5;28;01mexcept\u001b[39;00m:\n",
      "\u001b[31mAssertionError\u001b[39m: ",
      "\nDuring handling of the above exception, another exception occurred:\n",
      "\u001b[31mUnboundLocalError\u001b[39m                         Traceback (most recent call last)",
      "\u001b[36mCell\u001b[39m\u001b[36m \u001b[39m\u001b[32mIn[2]\u001b[39m\u001b[32m, line 17\u001b[39m\n\u001b[32m     15\u001b[39m         c = c+\u001b[32m1\u001b[39m\n\u001b[32m     16\u001b[39m         login()\n\u001b[32m---> \u001b[39m\u001b[32m17\u001b[39m \u001b[43mlogin\u001b[49m\u001b[43m(\u001b[49m\u001b[43m)\u001b[49m\n",
      "\u001b[36mCell\u001b[39m\u001b[36m \u001b[39m\u001b[32mIn[2]\u001b[39m\u001b[32m, line 15\u001b[39m, in \u001b[36mlogin\u001b[39m\u001b[34m()\u001b[39m\n\u001b[32m     13\u001b[39m \u001b[38;5;28;01mexcept\u001b[39;00m:\n\u001b[32m     14\u001b[39m     \u001b[38;5;28mprint\u001b[39m(\u001b[33m\"\u001b[39m\u001b[33mUsername and password do not exist!\u001b[39m\u001b[33m\"\u001b[39m)\n\u001b[32m---> \u001b[39m\u001b[32m15\u001b[39m     c = \u001b[43mc\u001b[49m+\u001b[32m1\u001b[39m\n\u001b[32m     16\u001b[39m     login()\n",
      "\u001b[31mUnboundLocalError\u001b[39m: cannot access local variable 'c' where it is not associated with a value"
     ]
    }
   ],
   "source": [
    "#login can be done using function\n",
    "username = 'admin'\n",
    "password = 'admin123'\n",
    "c = 1\n",
    "def login():\n",
    "    try:\n",
    "        username1 = input(\"Enter usernmae = \")\n",
    "        password1 = input(\"Enter password = \")\n",
    "        if username == username1 and password == password1:\n",
    "            print(\"You are logedin\")\n",
    "        else:\n",
    "            raise AssertionError\n",
    "    except:\n",
    "        print(\"Username and password do not exist!\")\n",
    "        c = c+1\n",
    "        login()\n",
    "login()"
   ]
  },
  {
   "cell_type": "code",
   "execution_count": 4,
   "id": "0cecd64f-bb85-46e6-9774-16292b8a56ed",
   "metadata": {},
   "outputs": [
    {
     "name": "stdin",
     "output_type": "stream",
     "text": [
      "Enter usernmae =  admin\n",
      "Enter password =  adfd\n"
     ]
    },
    {
     "name": "stdout",
     "output_type": "stream",
     "text": [
      "Username and password do not exist!\n"
     ]
    },
    {
     "name": "stdin",
     "output_type": "stream",
     "text": [
      "Enter usernmae =  adf\n",
      "Enter password =  adfd\n"
     ]
    },
    {
     "name": "stdout",
     "output_type": "stream",
     "text": [
      "Username and password do not exist!\n"
     ]
    },
    {
     "name": "stdin",
     "output_type": "stream",
     "text": [
      "Enter usernmae =  admin\n",
      "Enter password =  admin123\n"
     ]
    },
    {
     "name": "stdout",
     "output_type": "stream",
     "text": [
      "You are logedin\n",
      "You are loged in 3 attempt!\n"
     ]
    }
   ],
   "source": [
    "#login can be done using function\n",
    "username = 'admin'\n",
    "password = 'admin123'\n",
    "c = 1\n",
    "def login():\n",
    "    global c #need to define counter as a global variable for the UnboundLocalError\n",
    "    try:\n",
    "        username1 = input(\"Enter usernmae = \")\n",
    "        password1 = input(\"Enter password = \")\n",
    "        if username == username1 and password == password1:\n",
    "            print(\"You are logedin\")\n",
    "        else:\n",
    "            raise AssertionError\n",
    "    except:\n",
    "        print(\"Username and password do not exist!\")\n",
    "        c = c+1\n",
    "        login()\n",
    "    else:\n",
    "        print(f\"You are loged in {c} attempt!\")\n",
    "login()"
   ]
  }
 ],
 "metadata": {
  "kernelspec": {
   "display_name": "Python 3 (ipykernel)",
   "language": "python",
   "name": "python3"
  },
  "language_info": {
   "codemirror_mode": {
    "name": "ipython",
    "version": 3
   },
   "file_extension": ".py",
   "mimetype": "text/x-python",
   "name": "python",
   "nbconvert_exporter": "python",
   "pygments_lexer": "ipython3",
   "version": "3.13.3"
  }
 },
 "nbformat": 4,
 "nbformat_minor": 5
}
