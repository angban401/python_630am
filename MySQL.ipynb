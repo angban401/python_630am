{
 "cells": [
  {
   "cell_type": "code",
   "execution_count": 3,
   "id": "b26c25f6-7fac-4264-90e6-9b76c6af7ab4",
   "metadata": {},
   "outputs": [
    {
     "name": "stdout",
     "output_type": "stream",
     "text": [
      "Requirement already satisfied: mysql-connector in c:\\users\\anil.rai\\appdata\\local\\programs\\python\\python313\\lib\\site-packages (2.2.9)\n"
     ]
    }
   ],
   "source": [
    "!pip install mysql-connector"
   ]
  },
  {
   "cell_type": "code",
   "execution_count": 6,
   "id": "00da9f9d-b0d0-47e6-95d9-dd318080ab29",
   "metadata": {},
   "outputs": [],
   "source": [
    "import mysql.connector\n",
    "\n",
    "database = mysql.connector.connect(\n",
    "    host = \"localhost\",\n",
    "    user = \"root\",\n",
    "    password = \"\",\n",
    "    database = \"python630am\" #database\n",
    ")\n",
    "db = database.cursor() #holds the database "
   ]
  },
  {
   "cell_type": "code",
   "execution_count": 8,
   "id": "2ae192eb-fad5-4153-b84e-8fe9bcd43f80",
   "metadata": {},
   "outputs": [
    {
     "name": "stdout",
     "output_type": "stream",
     "text": [
      "(1, 'Ram', Decimal('78'), Decimal('67'), Decimal('88'), Decimal('56'), Decimal('79'), Decimal('450'), 90.0, 'A')\n",
      "(2, 'Shyam', Decimal('65'), Decimal('67'), Decimal('77'), Decimal('78'), Decimal('87'), Decimal('430'), 78.0, 'B')\n",
      "(4, 'Hari', Decimal('78'), Decimal('98'), Decimal('67'), Decimal('87'), Decimal('78'), Decimal('460'), 88.0, 'B')\n"
     ]
    }
   ],
   "source": [
    "db.execute(\"SELECT * FROM student\") #* -> all\n",
    "result = db.fetchall()\n",
    "\n",
    "for x in result:\n",
    "  print(x)"
   ]
  },
  {
   "cell_type": "code",
   "execution_count": 13,
   "id": "c9126593-8246-4838-86c9-d15cde45888c",
   "metadata": {},
   "outputs": [
    {
     "name": "stdout",
     "output_type": "stream",
     "text": [
      "('Ram', Decimal('450'), 'A')\n",
      "('Shyam', Decimal('430'), 'B')\n",
      "('Hari', Decimal('460'), 'B')\n"
     ]
    }
   ],
   "source": [
    "db.execute(\"SELECT student_name,total,grade FROM student\")\n",
    "result =db.fetchall()\n",
    "\n",
    "for x in result:\n",
    "  print(x)"
   ]
  },
  {
   "cell_type": "code",
   "execution_count": 14,
   "id": "a2881613-159e-4a10-b797-68d7f3f4aacb",
   "metadata": {},
   "outputs": [
    {
     "name": "stdout",
     "output_type": "stream",
     "text": [
      "(1, 'Ram', Decimal('78'), Decimal('67'), Decimal('88'), Decimal('56'), Decimal('79'), Decimal('450'), 90.0, 'A')\n"
     ]
    }
   ],
   "source": [
    "db.execute(\"SELECT * FROM student WHERE grade = 'A'\")\n",
    "result =db.fetchall()\n",
    "\n",
    "for x in result: \n",
    "  print(x) #the result is printed in the tuple format"
   ]
  },
  {
   "cell_type": "code",
   "execution_count": 21,
   "id": "faaedd26-5a2c-478e-b755-2a4bb3bccd30",
   "metadata": {},
   "outputs": [
    {
     "name": "stdout",
     "output_type": "stream",
     "text": [
      "(1, 'Ram', Decimal('78'), Decimal('67'), Decimal('88'), Decimal('56'), Decimal('79'), Decimal('450'), 90.0, 'A')\n"
     ]
    }
   ],
   "source": [
    "db.execute(\"SELECT * FROM student WHERE grade = 'A'\")\n",
    "result =db.fetchall()\n",
    "\n",
    "for x in result:\n",
    "  print(x)"
   ]
  },
  {
   "cell_type": "code",
   "execution_count": 20,
   "id": "6ccd2a18-537c-4cb6-805c-a066ebdbf76a",
   "metadata": {},
   "outputs": [
    {
     "name": "stdout",
     "output_type": "stream",
     "text": [
      "(1, 'Ram', Decimal('78'), Decimal('67'), Decimal('88'), Decimal('56'), Decimal('79'), Decimal('450'), 90.0, 'A')\n",
      "(4, 'Hari', Decimal('78'), Decimal('98'), Decimal('67'), Decimal('87'), Decimal('78'), Decimal('460'), 88.0, 'B')\n"
     ]
    }
   ],
   "source": [
    "db.execute(\"SELECT * FROM student WHERE percentage >= 85.0\")\n",
    "result =db.fetchall()\n",
    "\n",
    "for x in result: \n",
    "  print(x) #the result is printed in the tuple format"
   ]
  },
  {
   "cell_type": "code",
   "execution_count": 26,
   "id": "be934db4-7fc8-4b70-b517-eeab6c1e01c6",
   "metadata": {},
   "outputs": [],
   "source": [
    "#insert\n",
    "\n",
    "sql = \"\"\"INSERT INTO student (student_name, physics, math, english,nepali,chemistry,total,percentage,grade) \n",
    "VALUES ('Sarita', 52, 59, 62, 50, 49, 38, 71, 'B');\"\"\"\n",
    "db.execute(sql)\n",
    "database.commit() #updating the databse"
   ]
  },
  {
   "cell_type": "code",
   "execution_count": 32,
   "id": "c74b5a26-cd2c-49dd-b584-ad8717cf6d46",
   "metadata": {},
   "outputs": [
    {
     "ename": "SyntaxError",
     "evalue": "unterminated f-string literal (detected at line 24) (723969642.py, line 24)",
     "output_type": "error",
     "traceback": [
      "  \u001b[36mCell\u001b[39m\u001b[36m \u001b[39m\u001b[32mIn[32]\u001b[39m\u001b[32m, line 24\u001b[39m\n\u001b[31m    \u001b[39m\u001b[31msql = f\"INSERT INTO student (student_name, physics, math, english,nepali,chemistry,total,percentage,grade)\u001b[39m\n          ^\n\u001b[31mSyntaxError\u001b[39m\u001b[31m:\u001b[39m unterminated f-string literal (detected at line 24)\n"
     ]
    }
   ],
   "source": [
    "#this is backend\n",
    "student_name = input(\"Enter name = \")\n",
    "physics = int(input(\"Enter physics marks = \"))\n",
    "chemistry = int(input(\"Enter chemistry marks = \"))\n",
    "math = int(input(\"Enter math marks = \"))\n",
    "english = int(input(\"Enter english marks = \"))\n",
    "nepali = int(input(\"Enter nepali marks = \"))\n",
    "\n",
    "total = physics + chemistry + math + english + nepali\n",
    "\n",
    "per = total/5\n",
    "\n",
    "if per >=80: grade = \"A\"\n",
    "elif per >=60: grade = \"B\"\n",
    "elif per >=45: grade = \"C\"\n",
    "else: grade = \"F\"\n",
    "\n",
    "#print(total); print(\"is total marks = \")\n",
    "print(\"The total marks\", total)\n",
    "print(\"The percentage = \", per)\n",
    "print(\"The grade = \", grade)\n",
    "\n",
    "#insert\n",
    "sql = f\"INSERT INTO student (student_name, physics, math, english,nepali,chemistry,total,percentage,grade) \n",
    "VALUES ('student_name','physics','chemistry','math','nepali','english');\"\n",
    "db.execute(sql)\n",
    "database.commit()"
   ]
  },
  {
   "cell_type": "code",
   "execution_count": 31,
   "id": "151f1e4b-9cee-4fb0-99f6-f3fa6191ec96",
   "metadata": {},
   "outputs": [
    {
     "name": "stdout",
     "output_type": "stream",
     "text": [
      "(1, 'Ram', 78.0, 67.0, Decimal('88'), Decimal('56'), Decimal('79'), Decimal('450'), 90.0, 'A')\n",
      "(2, 'Shyam', 65.0, 67.0, Decimal('77'), Decimal('78'), Decimal('87'), Decimal('430'), 78.0, 'B')\n",
      "(4, 'Hari', 78.0, 98.0, Decimal('67'), Decimal('87'), Decimal('78'), Decimal('460'), 88.0, 'B')\n",
      "(10, 'Gopal', 45.0, 56.0, Decimal('66'), Decimal('55'), Decimal('44'), Decimal('350'), 67.0, 'C')\n",
      "(11, 'Sarita', 52.0, 59.0, Decimal('62'), Decimal('50'), Decimal('49'), Decimal('38'), 71.0, 'B')\n"
     ]
    }
   ],
   "source": [
    "db.execute(\"SELECT * FROM student\") #* -> all\n",
    "result = db.fetchall()\n",
    "\n",
    "for x in result:\n",
    "  print(x)"
   ]
  },
  {
   "cell_type": "code",
   "execution_count": 6,
   "id": "d96c7895-2b4f-4da7-9993-9aafeae47e51",
   "metadata": {},
   "outputs": [],
   "source": [
    "#need to import database for using the SQL query\n",
    "import mysql.connector\n",
    "\n",
    "database = mysql.connector.connect(\n",
    "    host = \"localhost\",\n",
    "    user = \"root\",\n",
    "    password = \"\",\n",
    "    database = \"python630am\" #database\n",
    ")\n",
    "db = database.cursor() #holds the database "
   ]
  },
  {
   "cell_type": "code",
   "execution_count": null,
   "id": "751476ef-a4b1-4f7d-beb7-c742a259abf6",
   "metadata": {},
   "outputs": [],
   "source": []
  },
  {
   "cell_type": "code",
   "execution_count": 9,
   "id": "0377ae8b-a7ae-4b9a-a66b-724ce909a880",
   "metadata": {},
   "outputs": [],
   "source": [
    "#update\n",
    "sql = \"UPDATE student SET student_name = 'Anil' WHERE roll_no = 1\"\n",
    "db.execute(sql)\n",
    "database.commit()"
   ]
  },
  {
   "cell_type": "code",
   "execution_count": 10,
   "id": "83ff81ad-225b-49a9-8249-4626f19f8b55",
   "metadata": {},
   "outputs": [],
   "source": [
    "#delete\n",
    "sql = \"DELETE FROM student WHERE student.roll_no = 10\"\n",
    "db.execute(sql)\n",
    "database.commit()"
   ]
  },
  {
   "cell_type": "code",
   "execution_count": null,
   "id": "af920a69-2bb4-4475-a89a-8b56a1e4bee7",
   "metadata": {},
   "outputs": [],
   "source": [
    "#database is mostly be used in django"
   ]
  }
 ],
 "metadata": {
  "kernelspec": {
   "display_name": "Python 3 (ipykernel)",
   "language": "python",
   "name": "python3"
  },
  "language_info": {
   "codemirror_mode": {
    "name": "ipython",
    "version": 3
   },
   "file_extension": ".py",
   "mimetype": "text/x-python",
   "name": "python",
   "nbconvert_exporter": "python",
   "pygments_lexer": "ipython3",
   "version": "3.13.3"
  }
 },
 "nbformat": 4,
 "nbformat_minor": 5
}
