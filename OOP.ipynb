{
 "cells": [
  {
   "cell_type": "code",
   "execution_count": null,
   "id": "43cf2086-a498-43bd-ac0d-276cab726cca",
   "metadata": {},
   "outputs": [],
   "source": [
    "#OOP\n",
    "#using reusable codes"
   ]
  },
  {
   "cell_type": "code",
   "execution_count": null,
   "id": "1816b495-850e-4464-acd7-5b23a19e5844",
   "metadata": {},
   "outputs": [],
   "source": [
    "#Class, Object, Methods"
   ]
  },
  {
   "cell_type": "code",
   "execution_count": null,
   "id": "0e12c021-9121-44aa-974c-2aae79e7dda3",
   "metadata": {},
   "outputs": [],
   "source": [
    "#Class -> a blueprint for the object\n",
    "\n",
    "#class Python:\n",
    "    #pass"
   ]
  },
  {
   "cell_type": "code",
   "execution_count": null,
   "id": "fb6ee65e-3e24-4875-bd31-bdac6e8ce0db",
   "metadata": {},
   "outputs": [],
   "source": [
    "class <class name>:\n",
    "    <methods1> #method is a function\n",
    "    <method2>\n",
    "\n",
    "obj = <class name>()"
   ]
  },
  {
   "cell_type": "code",
   "execution_count": 2,
   "id": "9c9126ed-a600-42a3-99b2-2145f3982c9f",
   "metadata": {},
   "outputs": [
    {
     "ename": "TypeError",
     "evalue": "Hello.hello() takes 0 positional arguments but 1 was given",
     "output_type": "error",
     "traceback": [
      "\u001b[31m---------------------------------------------------------------------------\u001b[39m",
      "\u001b[31mTypeError\u001b[39m                                 Traceback (most recent call last)",
      "\u001b[36mCell\u001b[39m\u001b[36m \u001b[39m\u001b[32mIn[2]\u001b[39m\u001b[32m, line 5\u001b[39m\n\u001b[32m      3\u001b[39m         \u001b[38;5;28mprint\u001b[39m(\u001b[33m\"\u001b[39m\u001b[33mHello World\u001b[39m\u001b[33m\"\u001b[39m)\n\u001b[32m      4\u001b[39m obj = Hello() \u001b[38;5;66;03m#class initialise\u001b[39;00m\n\u001b[32m----> \u001b[39m\u001b[32m5\u001b[39m \u001b[43mobj\u001b[49m\u001b[43m.\u001b[49m\u001b[43mhello\u001b[49m\u001b[43m(\u001b[49m\u001b[43m)\u001b[49m\n",
      "\u001b[31mTypeError\u001b[39m: Hello.hello() takes 0 positional arguments but 1 was given"
     ]
    }
   ],
   "source": [
    "class Hello:\n",
    "    def hello():\n",
    "        print(\"Hello World\")\n",
    "obj = Hello() #class initialise\n",
    "obj.hello()"
   ]
  },
  {
   "cell_type": "code",
   "execution_count": 3,
   "id": "1044b4ba-a9e6-47ff-ac46-6f34067b897c",
   "metadata": {},
   "outputs": [
    {
     "name": "stdout",
     "output_type": "stream",
     "text": [
      "Hello World\n"
     ]
    }
   ],
   "source": [
    "#there are three method to do it, but we study only two methods:\n",
    "#method 1\n",
    "class Hello:\n",
    "    def hello(self):\n",
    "        print(\"Hello World\")\n",
    "obj = Hello() #class initialise\n",
    "obj.hello()"
   ]
  },
  {
   "cell_type": "code",
   "execution_count": 4,
   "id": "413add0f-f725-41a3-805b-b1aa1254a0f4",
   "metadata": {},
   "outputs": [
    {
     "name": "stdout",
     "output_type": "stream",
     "text": [
      "Hello World\n"
     ]
    }
   ],
   "source": [
    "#method 2\n",
    "class Hello:\n",
    "    @staticmethod #decorator\n",
    "    def hello():\n",
    "        print(\"Hello World\")\n",
    "obj = Hello() #class initialise\n",
    "obj.hello()"
   ]
  },
  {
   "cell_type": "code",
   "execution_count": 8,
   "id": "1c0af5b2-a914-4ab0-9eb8-eb822c207bb3",
   "metadata": {},
   "outputs": [
    {
     "name": "stdin",
     "output_type": "stream",
     "text": [
      "Enter l =  10\n",
      "Enter b =  20\n"
     ]
    },
    {
     "name": "stdout",
     "output_type": "stream",
     "text": [
      "200\n"
     ]
    }
   ],
   "source": [
    "#method 1\n",
    "class Area:\n",
    "    def area(self,l,b):\n",
    "        a = l*b\n",
    "        print(a)\n",
    "\n",
    "obj = Area()\n",
    "l = int(input(\"Enter l = \"))\n",
    "b = int(input(\"Enter b = \"))\n",
    "obj.area(l,b)"
   ]
  },
  {
   "cell_type": "code",
   "execution_count": 9,
   "id": "5f7d9c69-65fe-4a27-9975-0c9078d02208",
   "metadata": {},
   "outputs": [
    {
     "name": "stdin",
     "output_type": "stream",
     "text": [
      "Enter l =  12\n",
      "Enter b =  13\n"
     ]
    },
    {
     "name": "stdout",
     "output_type": "stream",
     "text": [
      "156\n"
     ]
    }
   ],
   "source": [
    "#method 2\n",
    "class Area:\n",
    "    @staticmethod #decorator\n",
    "    def area(l,b):\n",
    "        a = l*b\n",
    "        print(a)\n",
    "\n",
    "obj = Area()\n",
    "l = int(input(\"Enter l = \"))\n",
    "b = int(input(\"Enter b = \"))\n",
    "obj.area(l,b)"
   ]
  },
  {
   "cell_type": "code",
   "execution_count": 15,
   "id": "863da95d-1477-4c4e-b7fa-eb40f90e495d",
   "metadata": {},
   "outputs": [
    {
     "name": "stdin",
     "output_type": "stream",
     "text": [
      "Enter name =  Ram\n",
      "Enter age =  23\n",
      "Enter address =  Sindhuli\n"
     ]
    },
    {
     "name": "stdout",
     "output_type": "stream",
     "text": [
      "Hello world. I am Ram. I am 23 years old. I am from Sindhuli.\n"
     ]
    }
   ],
   "source": [
    "class Info:\n",
    "    def __init__(self,name,age,add):\n",
    "        self.name = name\n",
    "        self.age = age\n",
    "        self.add = add\n",
    "\n",
    "    def info(self):\n",
    "        print(f\"Hello world. I am {self.name}. I am {self.age} years old. I am from {self.add}.\")\n",
    "\n",
    "name = input(\"Enter name = \")\n",
    "age = int(input(\"Enter age = \"))\n",
    "add = input(\"Enter address = \")\n",
    "obj = Info(name,age,add)\n",
    "obj.info()"
   ]
  },
  {
   "cell_type": "code",
   "execution_count": null,
   "id": "2624c14e-d2d0-4b10-9e24-b49ef30bc23f",
   "metadata": {},
   "outputs": [],
   "source": [
    "class Info:\n",
    "    def __init__(self,name,age,add):\n",
    "        self.name = name\n",
    "        self.age = age\n",
    "        self.add = add\n",
    "\n",
    "    def info(self):\n",
    "        print(f\"Hello world. I am {self.name}. I am {self.age} years old. I am from {self.add}.\")\n",
    "\n",
    "name = input(\"Enter name = \")\n",
    "age = int(input(\"Enter age = \"))\n",
    "add = input(\"Enter address = \")\n",
    "obj = \n",
    "obj = Info(name,age,add)\n",
    "obj.info()"
   ]
  },
  {
   "cell_type": "code",
   "execution_count": null,
   "id": "d24abd90-e202-42c4-9703-defd1e4ad2eb",
   "metadata": {},
   "outputs": [],
   "source": []
  },
  {
   "cell_type": "code",
   "execution_count": null,
   "id": "eb019f0d-3e22-45bd-99bd-4a74f3827293",
   "metadata": {},
   "outputs": [],
   "source": []
  },
  {
   "cell_type": "code",
   "execution_count": 18,
   "id": "df022c46-471d-42a7-b965-bc1d58f75f02",
   "metadata": {},
   "outputs": [
    {
     "name": "stdin",
     "output_type": "stream",
     "text": [
      "Enter name =  Hari\n",
      "Enter age =  45\n",
      "Enter address =  Bhkt\n"
     ]
    },
    {
     "name": "stdout",
     "output_type": "stream",
     "text": [
      "Hello world. I am Hari. I am 45 years old. I am from Bhkt\n"
     ]
    }
   ],
   "source": [
    "#this way of taking input inside class is not adviasable\n",
    "class Info:\n",
    "    def __init__(self):\n",
    "        self.name = input(\"Enter name = \")\n",
    "        self.age = int(input(\"Enter age = \"))\n",
    "        self.add = input(\"Enter address = \")\n",
    "\n",
    "    def info(self):\n",
    "        print(f\"Hello world. I am {self.name}. I am {self.age} years old. I am from {self.add}\")\n",
    "\n",
    "obj = Info()\n",
    "obj.info()"
   ]
  },
  {
   "cell_type": "code",
   "execution_count": null,
   "id": "1f19f291-e0a7-468f-acff-e599069b2152",
   "metadata": {},
   "outputs": [],
   "source": []
  }
 ],
 "metadata": {
  "kernelspec": {
   "display_name": "Python 3 (ipykernel)",
   "language": "python",
   "name": "python3"
  },
  "language_info": {
   "codemirror_mode": {
    "name": "ipython",
    "version": 3
   },
   "file_extension": ".py",
   "mimetype": "text/x-python",
   "name": "python",
   "nbconvert_exporter": "python",
   "pygments_lexer": "ipython3",
   "version": "3.13.3"
  }
 },
 "nbformat": 4,
 "nbformat_minor": 5
}
