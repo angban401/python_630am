{
 "cells": [
  {
   "cell_type": "code",
   "execution_count": null,
   "id": "629693f0-6ce0-4383-8be4-749886b92713",
   "metadata": {},
   "outputs": [],
   "source": [
    "#OOP Inheritance -> its mostly needed in django\n",
    "#one class to derive the properties of another class"
   ]
  },
  {
   "cell_type": "code",
   "execution_count": null,
   "id": "c616f85c-fa8c-445a-8846-95d810227cbe",
   "metadata": {},
   "outputs": [],
   "source": [
    "class A:\n",
    "    pass #pass ->do nothing\n",
    "\n",
    "class B(A):\n",
    "    pass\n",
    "\n",
    "obj = B()"
   ]
  },
  {
   "cell_type": "code",
   "execution_count": 2,
   "id": "3d41b243-3273-4d2f-967e-9c716ea03843",
   "metadata": {},
   "outputs": [
    {
     "name": "stdout",
     "output_type": "stream",
     "text": [
      "hello world. I am Ram. I am 23 years old. I am from Kathmandu\n",
      "Ram 23 Kathmandu\n"
     ]
    }
   ],
   "source": [
    "class Data: #parent class\n",
    "    def __init__(self):\n",
    "        self.name = \"Ram\"\n",
    "        self.age = 23\n",
    "        self.add = \"Kathmandu\"\n",
    "   \n",
    "    def data(self): \n",
    "        print(self.name,self.age,self.add)\n",
    "\n",
    "class Info(Data): #Info class inherit from Data class -> child class\n",
    "    def info(self):\n",
    "        print(f\"hello world. I am {self.name}. I am {self.age} years old. I am from {self.add}.\")\n",
    "\n",
    "obj = Info()\n",
    "obj.info()\n",
    "obj.data()"
   ]
  },
  {
   "cell_type": "code",
   "execution_count": 3,
   "id": "03af1e05-b6ea-4926-a75f-18439080369a",
   "metadata": {},
   "outputs": [
    {
     "name": "stdin",
     "output_type": "stream",
     "text": [
      "Enter name =  Hari\n",
      "Enter age =  41\n",
      "Enter address =  Pokhara\n"
     ]
    },
    {
     "name": "stdout",
     "output_type": "stream",
     "text": [
      "hello world. I am Hari. I am 41 years old. I am from Pokhara.\n",
      "Hari 41 Pokhara\n"
     ]
    }
   ],
   "source": [
    "#taking input from the user\n",
    "class Data: #parent class\n",
    "    def __init__(self,name,age,add): #init -> initialize is a constructor\n",
    "        self.name = name\n",
    "        self.age = age\n",
    "        self.add = add\n",
    "   \n",
    "    def data(self):\n",
    "        print(self.name,self.age,self.add)\n",
    "\n",
    "class Info(Data): #Info class inherit from Data class -> child class, this Info class doesn't have __init__\n",
    "    def info(self): #no init method\n",
    "        print(f\"hello world. I am {self.name}. I am {self.age} years old. I am from {self.add}.\")\n",
    "\n",
    "name = input(\"Enter name = \")\n",
    "age = int(input(\"Enter age = \"))\n",
    "add = input(\"Enter address = \")\n",
    "\n",
    "obj = Info(name,age,add)\n",
    "obj.info()\n",
    "obj.data()"
   ]
  },
  {
   "cell_type": "code",
   "execution_count": 4,
   "id": "dd2272d3-e7e7-4342-9fdd-dafb3005d9f4",
   "metadata": {},
   "outputs": [
    {
     "name": "stdin",
     "output_type": "stream",
     "text": [
      "Enter name =  Sita\n",
      "Enter age =  21\n",
      "Enter address =  Dharan\n"
     ]
    },
    {
     "name": "stdout",
     "output_type": "stream",
     "text": [
      "hello world. I am Sita. I am 21 years old. I am from Dharan.\n",
      "Sita 21 Dharan\n"
     ]
    }
   ],
   "source": [
    "#taking input from the user\n",
    "class Data: #parent class\n",
    "    def __init__(self,add): #init -> initialize is a constructor\n",
    "        self.add = add\n",
    "   \n",
    "    def data(self): #public data\n",
    "        print(self.name,self.age,self.add)\n",
    "\n",
    "class Info(Data): #Info class inherit from Data class -> child class, this Info class doesn't have __init__\n",
    "    def __init__(self,name,age,add):\n",
    "        self.name = name\n",
    "        self.age = age\n",
    "        Data.__init__(self,add)\n",
    "\n",
    "    def info(self):\n",
    "        print(f\"hello world. I am {self.name}. I am {self.age} years old. I am from {self.add}.\")\n",
    "\n",
    "name = input(\"Enter name = \")\n",
    "age = int(input(\"Enter age = \"))\n",
    "add = input(\"Enter address = \")\n",
    "\n",
    "obj = Info(name,age,add)\n",
    "obj.info()\n",
    "obj.data()"
   ]
  },
  {
   "cell_type": "code",
   "execution_count": 5,
   "id": "69707f69-ede8-4ba8-a277-0556421e9edd",
   "metadata": {},
   "outputs": [
    {
     "name": "stdin",
     "output_type": "stream",
     "text": [
      "Enter name =  Ram Bahadur\n",
      "Enter age =  34\n",
      "Enter address =  Kailali\n"
     ]
    },
    {
     "name": "stdout",
     "output_type": "stream",
     "text": [
      "hello world. I am Ram Bahadur. I am 34 years old. I am from Kailali.\n",
      "Kailali\n"
     ]
    }
   ],
   "source": [
    "#taking input from the user\n",
    "class Data: #parent class\n",
    "    def __init__(self,add): #init -> initialize is a constructor\n",
    "        self.add = add\n",
    "   \n",
    "    def data(self):\n",
    "        print(self.add)\n",
    "\n",
    "class Info(Data): #Info class inherit from Data class -> child class, this Info class doesn't have __init__\n",
    "    def __init__(self,name,age,add):\n",
    "        self.name = name\n",
    "        self.age = age\n",
    "        Data.__init__(self,add)\n",
    "\n",
    "    def info(self):\n",
    "        print(f\"Hello world. I am {self.name}. I am {self.age} years old. I am from {self.add}.\")\n",
    "\n",
    "name = input(\"Enter name = \")\n",
    "age = int(input(\"Enter age = \"))\n",
    "add = input(\"Enter address = \")\n",
    "\n",
    "obj = Info(name,age,add)\n",
    "obj.info()\n",
    "obj.data()"
   ]
  },
  {
   "cell_type": "code",
   "execution_count": null,
   "id": "8a32adc7-70ec-42d5-89a1-c1fa1ea57eb7",
   "metadata": {},
   "outputs": [],
   "source": [
    "#MVC -> Model, View, Controller is used in application development, django"
   ]
  },
  {
   "cell_type": "code",
   "execution_count": 6,
   "id": "6f0d6ff0-ac62-4842-93e6-f81832a0a73e",
   "metadata": {},
   "outputs": [
    {
     "name": "stdin",
     "output_type": "stream",
     "text": [
      "Enter name =  Sama\n",
      "Enter age =  33\n",
      "Enter address =  Bharatpur\n"
     ]
    },
    {
     "name": "stdout",
     "output_type": "stream",
     "text": [
      "Hello world. I am Sama. I am 33 years old. I am from Bharatpur.\n"
     ]
    }
   ],
   "source": [
    "#taking input from the user\n",
    "class Data: #parent class\n",
    "    def __init__(self,add): #init -> initialize is a constructor\n",
    "        self.add = add\n",
    "   \n",
    "    def data(self):\n",
    "        print(self.add)\n",
    "\n",
    "class Info(Data): #Info class inherit from Data class -> child class, this Info class doesn't have __init__\n",
    "    def __init__(self,name,age,add):\n",
    "        self.name = name\n",
    "        self.age = age\n",
    "        Data.__init__(self,add) #object, double underscore is also called-> dundscore\n",
    "\n",
    "    def info(self):\n",
    "        print(f\"Hello world. I am {self.name}. I am {self.age} years old. I am from {self.add}.\")\n",
    "\n",
    "name = input(\"Enter name = \")\n",
    "age = int(input(\"Enter age = \"))\n",
    "add = input(\"Enter address = \")\n",
    "\n",
    "obj = Info(name,age,add)\n",
    "obj.info()"
   ]
  },
  {
   "cell_type": "code",
   "execution_count": null,
   "id": "0b12b131-1a34-407a-9234-4ede4ff2b49e",
   "metadata": {},
   "outputs": [],
   "source": [
    "#multi-level inheritance vs multiple inhertance"
   ]
  },
  {
   "cell_type": "code",
   "execution_count": null,
   "id": "0572b85a-1060-4cf5-bb87-ce576445ade8",
   "metadata": {},
   "outputs": [],
   "source": [
    "#multi-level inheritance\n",
    "class A:\n",
    "    pass #do nothing\n",
    "class B(A):\n",
    "    pass\n",
    "class C(B):\n",
    "    pass\n",
    "obj = C()"
   ]
  },
  {
   "cell_type": "code",
   "execution_count": null,
   "id": "77133eb5-9ccd-445a-ae80-f649e9c19eca",
   "metadata": {},
   "outputs": [],
   "source": [
    "#multiple inheritance\n",
    "class A:\n",
    "    pass #do nothing\n",
    "class B:\n",
    "    pass\n",
    "class C(A,B):\n",
    "    pass\n",
    "obj = C()"
   ]
  },
  {
   "cell_type": "code",
   "execution_count": 9,
   "id": "a3218a53-1188-4c5f-b3f3-7ffb5f4b7134",
   "metadata": {},
   "outputs": [
    {
     "name": "stdin",
     "output_type": "stream",
     "text": [
      "Enter name =  Sulochana\n",
      "Enter age =  25\n",
      "Enter address =  Jhapa\n",
      "Enter phone =  9846032456\n"
     ]
    },
    {
     "name": "stdout",
     "output_type": "stream",
     "text": [
      "Hello world. I am Sulochana. I am 25 years old. I am from Jhapa. My phone no. is 9846032456.\n",
      "Jhapa\n"
     ]
    }
   ],
   "source": [
    "#multi-level inheritance\n",
    "class Contact:                                #grand-parent though it's not called grand parent, just to understand\n",
    "    def __init__(self,phone):\n",
    "        self.phone = phone\n",
    "    def contact(self):\n",
    "        print(self.phone)\n",
    "        \n",
    "class Data(Contact):                           #parent class\n",
    "    def __init__(self,add,phone): #init -> initialize is a constructor\n",
    "        self.add = add\n",
    "        Contact.__init__(self,phone)\n",
    "   \n",
    "    def data(self):\n",
    "        print(self.add)\n",
    "\n",
    "class Info(Data): #Info class inherit from Data class -> child class, this Info class doesn't have __init__\n",
    "    def __init__(self,name,age,add,phone):\n",
    "        self.name = name\n",
    "        self.age = age\n",
    "        Data.__init__(self,add,phone) #object, double underscore is also called-> dundscore\n",
    "\n",
    "    def info(self):\n",
    "        print(f\"Hello world. I am {self.name}. I am {self.age} years old. I am from {self.add}. My phone no. is {self.phone}.\")\n",
    "\n",
    "name = input(\"Enter name = \")\n",
    "age = int(input(\"Enter age = \"))\n",
    "add = input(\"Enter address = \")\n",
    "phone = input(\"Enter phone = \")\n",
    "\n",
    "obj = Info(name,age,add,phone)\n",
    "obj.info()\n",
    "obj.data()"
   ]
  },
  {
   "cell_type": "code",
   "execution_count": 11,
   "id": "7580ab8a-571b-49c4-a057-98f6c5cfeb89",
   "metadata": {},
   "outputs": [
    {
     "name": "stdin",
     "output_type": "stream",
     "text": [
      "Enter name =  Deepak\n",
      "Enter age =  31\n",
      "Enter address =  Palpa\n",
      "Enter phone =  98456023456\n"
     ]
    },
    {
     "name": "stdout",
     "output_type": "stream",
     "text": [
      "Hello world. I am Deepak. I am 31 years old. I am from Palpa. My phone no. is 98456023456.\n",
      "Palpa\n"
     ]
    }
   ],
   "source": [
    "#multiple inheritance\n",
    "class Contact:                                #parent class -> where there is an initialize\n",
    "    def __init__(self,phone):\n",
    "        self.phone = phone\n",
    "    def contact(self):\n",
    "        print(self.phone)\n",
    "        \n",
    "class Data(Contact):                           #parent class\n",
    "    def __init__(self,add): \n",
    "        self.add = add\n",
    "    def data(self):\n",
    "        print(self.add)\n",
    "\n",
    "class Info(Data,Contact):                      #child class\n",
    "    def __init__(self,name,age,add,phone):\n",
    "        self.name = name\n",
    "        self.age = age\n",
    "        Data.__init__(self,add)\n",
    "        Contact.__init__(self,phone)\n",
    "\n",
    "    def info(self):\n",
    "        print(f\"Hello world. I am {self.name}. I am {self.age} years old. I am from {self.add}. My phone no. is {self.phone}.\")\n",
    "\n",
    "name = input(\"Enter name = \")\n",
    "age = int(input(\"Enter age = \"))\n",
    "add = input(\"Enter address = \")\n",
    "phone = input(\"Enter phone = \")\n",
    "\n",
    "obj = Info(name,age,add,phone)\n",
    "obj.info()\n",
    "obj.data()"
   ]
  },
  {
   "cell_type": "code",
   "execution_count": 1,
   "id": "ba012582-42dd-433a-a9b0-0a501e2a6066",
   "metadata": {},
   "outputs": [
    {
     "name": "stdout",
     "output_type": "stream",
     "text": [
      "Ram\n",
      "34\n",
      "Ktm\n"
     ]
    }
   ],
   "source": [
    "#Encapsulation -> public, protected, private\n",
    "#public members\n",
    "class Info:\n",
    "    def __init__(self):\n",
    "        self.name = \"Ram\"\n",
    "        self.age = 34\n",
    "        self.add = \"Ktm\"\n",
    "    def info():\n",
    "        print(self.name,self.age,self.add)\n",
    "\n",
    "obj = Info()\n",
    "print(obj.name) #public data access\n",
    "print(obj.age)\n",
    "print(obj.add)"
   ]
  },
  {
   "cell_type": "code",
   "execution_count": 2,
   "id": "fe828f33-28c5-4342-a8f9-d107b5f23fb4",
   "metadata": {},
   "outputs": [
    {
     "name": "stdout",
     "output_type": "stream",
     "text": [
      "Hello world. I am Ram. I am from 34 years old. I am from Ktm.\n",
      "Ram\n",
      "34\n",
      "Ktm\n"
     ]
    }
   ],
   "source": [
    "#protected members\n",
    "#loophole in Python that goes against the OOP\n",
    "class Data:\n",
    "    def __init__(self):\n",
    "        self._name = \"Ram\"\n",
    "        self._age = 34\n",
    "        self._add = \"Ktm\"\n",
    "    def data():\n",
    "        print(self._name,self._age,self._add)\n",
    "\n",
    "class Info(Data):\n",
    "    def info(self):\n",
    "        print(f\"Hello world. I am {self._name}. I am from {self._age} years old. I am from {self._add}.\")\n",
    "\n",
    "obj = Info()\n",
    "obj.info() #protected data access\n",
    "\n",
    "print(obj._name) #public data access, this is a controversy that goes against the OOP\n",
    "print(obj._age)\n",
    "print(obj._add)"
   ]
  },
  {
   "cell_type": "code",
   "execution_count": 9,
   "id": "872c4526-1072-4a0d-85e6-acc7e0a2d4df",
   "metadata": {},
   "outputs": [
    {
     "name": "stdout",
     "output_type": "stream",
     "text": [
      "Hello world. I am Ram. I am 34 years old.\n"
     ]
    }
   ],
   "source": [
    "#private members\n",
    "\n",
    "class Data:\n",
    "    def __init__(self):\n",
    "        self.name = \"Ram\" #public data\n",
    "        self._age = 34 #protected \"single underscore\"\n",
    "        self.__add = \"Ktm\" #private \"double underscore\"\n",
    "        self.__phone = 9846059393 #private\n",
    "    def data():\n",
    "        print(self.__name,self.__age,self.__add)\n",
    "\n",
    "class Info(Data):\n",
    "    def info(self):\n",
    "        print(f\"Hello world. I am {self.name}. I am {self._age} years old.\")\n",
    "\n",
    "obj = Info()\n",
    "obj.info() #protected data access\n",
    "#print(obj.name) #public access of public data\n",
    "#print(obj.__age) #public access of private data not possible"
   ]
  }
 ],
 "metadata": {
  "kernelspec": {
   "display_name": "Python 3 (ipykernel)",
   "language": "python",
   "name": "python3"
  },
  "language_info": {
   "codemirror_mode": {
    "name": "ipython",
    "version": 3
   },
   "file_extension": ".py",
   "mimetype": "text/x-python",
   "name": "python",
   "nbconvert_exporter": "python",
   "pygments_lexer": "ipython3",
   "version": "3.13.3"
  }
 },
 "nbformat": 4,
 "nbformat_minor": 5
}
