{
 "cells": [
  {
   "cell_type": "code",
   "execution_count": null,
   "id": "78f95d55-3674-470c-8210-0c721a1fce37",
   "metadata": {},
   "outputs": [],
   "source": [
    "#Encapsulation"
   ]
  },
  {
   "cell_type": "code",
   "execution_count": null,
   "id": "3fb31151-e67a-45f0-a187-db035f612245",
   "metadata": {},
   "outputs": [],
   "source": [
    "#public\n",
    "#protected\n",
    "#private"
   ]
  },
  {
   "cell_type": "code",
   "execution_count": 1,
   "id": "484ec483-3aaa-4057-bc47-a0b476304541",
   "metadata": {},
   "outputs": [
    {
     "name": "stdout",
     "output_type": "stream",
     "text": [
      "Ram\n",
      "34\n",
      "Ktm\n"
     ]
    }
   ],
   "source": [
    "#Encapsulation -> public, protected, private\n",
    "#public members\n",
    "class Info:\n",
    "    def __init__(self):\n",
    "        self.name = \"Ram\"\n",
    "        self.age = 34\n",
    "        self.add = \"Ktm\"\n",
    "    def info():\n",
    "        print(self.name,self.age,self.add)\n",
    "\n",
    "obj = Info()\n",
    "print(obj.name) #public data access\n",
    "print(obj.age)\n",
    "print(obj.add)"
   ]
  },
  {
   "cell_type": "code",
   "execution_count": 2,
   "id": "eeb265e8-9b89-4692-8930-ebe158841483",
   "metadata": {},
   "outputs": [
    {
     "name": "stdout",
     "output_type": "stream",
     "text": [
      "Hello world. I am Ram. I am from 34 years old. I am from Ktm.\n",
      "Ram\n",
      "34\n",
      "Ktm\n"
     ]
    }
   ],
   "source": [
    "#protected members\n",
    "#loophole in Python that goes against the OOP\n",
    "class Data:\n",
    "    def __init__(self):\n",
    "        self._name = \"Ram\"\n",
    "        self._age = 34\n",
    "        self._add = \"Ktm\"\n",
    "    def data():\n",
    "        print(self._name,self._age,self._add)\n",
    "\n",
    "class Info(Data):\n",
    "    def info(self):\n",
    "        print(f\"Hello world. I am {self._name}. I am from {self._age} years old. I am from {self._add}.\")\n",
    "\n",
    "obj = Info()\n",
    "obj.info() #protected data access\n",
    "\n",
    "print(obj._name) #public data access, this is a controversy that goes against the OOP\n",
    "print(obj._age)\n",
    "print(obj._add)"
   ]
  },
  {
   "cell_type": "code",
   "execution_count": 3,
   "id": "4c688f23-b256-4692-8dcb-ea961d0ac768",
   "metadata": {},
   "outputs": [
    {
     "name": "stdout",
     "output_type": "stream",
     "text": [
      "Hello world. I am Ram. I am 34 years old.\n"
     ]
    }
   ],
   "source": [
    "#private members\n",
    "\n",
    "class Data:\n",
    "    def __init__(self):\n",
    "        self.name = \"Ram\" #public data\n",
    "        self._age = 34 #protected \"single underscore\"\n",
    "        self.__add = \"Ktm\" #private \"double underscore\"\n",
    "        self.__phone = 9846059393 #private\n",
    "    def data():\n",
    "        print(self.__name,self.__age,self.__add)\n",
    "\n",
    "class Info(Data):\n",
    "    def info(self):\n",
    "        print(f\"Hello world. I am {self.name}. I am {self._age} years old.\")\n",
    "\n",
    "obj = Info()\n",
    "obj.info() #protected data access\n",
    "#print(obj.name) #public access of public data\n",
    "#print(obj.__age) #public access of private data not possible"
   ]
  }
 ],
 "metadata": {
  "kernelspec": {
   "display_name": "Python 3 (ipykernel)",
   "language": "python",
   "name": "python3"
  },
  "language_info": {
   "codemirror_mode": {
    "name": "ipython",
    "version": 3
   },
   "file_extension": ".py",
   "mimetype": "text/x-python",
   "name": "python",
   "nbconvert_exporter": "python",
   "pygments_lexer": "ipython3",
   "version": "3.13.3"
  }
 },
 "nbformat": 4,
 "nbformat_minor": 5
}
