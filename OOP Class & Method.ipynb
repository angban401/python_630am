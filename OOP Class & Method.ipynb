{
 "cells": [
  {
   "cell_type": "code",
   "execution_count": null,
   "id": "97ba3eee-e3ea-4f88-a758-06af4e563a6f",
   "metadata": {},
   "outputs": [],
   "source": [
    "#operators work in data type but doesnot in object\n",
    "#django returns value in object format"
   ]
  },
  {
   "cell_type": "code",
   "execution_count": null,
   "id": "fb397b05-1c9d-4550-bc4b-8cfdb9f642c4",
   "metadata": {},
   "outputs": [],
   "source": [
    "# str method -> returns only string as object"
   ]
  },
  {
   "cell_type": "code",
   "execution_count": 7,
   "id": "304efcf4-ea39-4d87-9e4b-dd936266ac63",
   "metadata": {},
   "outputs": [
    {
     "name": "stdout",
     "output_type": "stream",
     "text": [
      "Hello world. I am Ram. I am 34 years old. I am from Ktm.\n",
      "Ram\n",
      "<class '__main__.Info'>\n"
     ]
    }
   ],
   "source": [
    "# str method\n",
    "class Info:\n",
    "    def __init__(self):\n",
    "        self.name = \"Ram\" \n",
    "        self.age = 34\n",
    "        self.add = \"Ktm\"\n",
    "\n",
    "    def __str__(self):\n",
    "        return self.name\n",
    "        \n",
    "    def info(self):\n",
    "        print(f\"Hello world. I am {self.name}. I am {self.age} years old. I am from {self.add}.\")\n",
    "\n",
    "obj = Info()\n",
    "obj.info()\n",
    "print(obj)\n",
    "print(type(obj)) #checking the data type "
   ]
  },
  {
   "cell_type": "code",
   "execution_count": 8,
   "id": "daa76a05-0a86-4448-a1bb-1c958e7ed795",
   "metadata": {},
   "outputs": [
    {
     "name": "stdout",
     "output_type": "stream",
     "text": [
      "Hello world. I am Ram. I am 34 years old. I am from Ktm.\n"
     ]
    },
    {
     "data": {
      "text/plain": [
       "'Ram'"
      ]
     },
     "execution_count": 8,
     "metadata": {},
     "output_type": "execute_result"
    }
   ],
   "source": [
    "# repr method\n",
    "class Info:\n",
    "    def __init__(self):\n",
    "        self.name = \"Ram\" \n",
    "        self.age = 34\n",
    "        self.add = \"Ktm\"\n",
    "\n",
    "    def __repr__(self):\n",
    "        return self.name\n",
    "        return {1:self.name,2:self.age,3:self.add} #to return all three as a single string\n",
    "\n",
    "    def info(self):\n",
    "        print(f\"Hello world. I am {self.name}. I am {self.age} years old. I am from {self.add}.\")\n",
    "\n",
    "obj = Info()\n",
    "obj.info()\n",
    "obj.__repr__()"
   ]
  },
  {
   "cell_type": "code",
   "execution_count": 11,
   "id": "6d2231f7-e83d-4d9f-9564-b849f3942716",
   "metadata": {},
   "outputs": [
    {
     "name": "stdout",
     "output_type": "stream",
     "text": [
      "Hello world. I am Ram. I am 34 years old. I am from Ktm.\n",
      "Ram,34,Ktm\n"
     ]
    },
    {
     "data": {
      "text/plain": [
       "'Ram,34,Ktm'"
      ]
     },
     "execution_count": 11,
     "metadata": {},
     "output_type": "execute_result"
    }
   ],
   "source": [
    "class Info:\n",
    "    def __init__(self):\n",
    "        self.name = \"Ram\" \n",
    "        self.age = 34\n",
    "        self.add = \"Ktm\"\n",
    "\n",
    "    def __str__(self):\n",
    "        return f\"{self.name},{self.age},{self.add}\" #to return all three items as a single string\n",
    "    \n",
    "    def info(self):\n",
    "        print(f\"Hello world. I am {self.name}. I am {self.age} years old. I am from {self.add}.\")\n",
    "\n",
    "obj = Info()\n",
    "obj.info()\n",
    "print(obj) #calls str method\n",
    "obj.__str__()"
   ]
  },
  {
   "cell_type": "code",
   "execution_count": 16,
   "id": "8db885ea-b3a5-40f6-b694-72e72a054c98",
   "metadata": {},
   "outputs": [
    {
     "name": "stdout",
     "output_type": "stream",
     "text": [
      "This is init method 1000\n",
      "This is init method 2000\n",
      "This is str method 3000\n",
      "This is init method 3000\n",
      "This is str method 3000\n",
      "3000\n"
     ]
    }
   ],
   "source": [
    "#operator overloading -> not needed in django\n",
    "class Point:\n",
    "    def __init__(self, x = 0):\n",
    "        self.x = x\n",
    "        print(\"This is init method\",self.x)\n",
    "        \n",
    "    def __str__(self):\n",
    "        print(\"This is str method\",self.x)\n",
    "        return str(self.x)\n",
    "        \n",
    "\n",
    "    def __add__(self,other):\n",
    "        x = self.x + other.x\n",
    "        print(\"This is str method\",x)\n",
    "        return Point(x)\n",
    "\n",
    "p1 = Point(1000)\n",
    "p2 = Point(2000)\n",
    "\n",
    "print(p1 + p2) #adding two objects, calls str method"
   ]
  },
  {
   "cell_type": "code",
   "execution_count": 17,
   "id": "b2e05b74-c99f-4ad8-b4c2-c37fd8dedfaf",
   "metadata": {},
   "outputs": [
    {
     "name": "stdout",
     "output_type": "stream",
     "text": [
      "This is init method 1000\n",
      "This is init method 2000\n",
      "This is init method 3000\n",
      "This is str method 3000\n",
      "This is init method 3000\n",
      "This is str method 6000\n",
      "This is init method 6000\n",
      "This is str method 6000\n",
      "6000\n"
     ]
    }
   ],
   "source": [
    "#operator overloading -> not needed in django\n",
    "class Point:\n",
    "    def __init__(self, x = 0):\n",
    "        self.x = x\n",
    "        print(\"This is init method\",self.x)\n",
    "        \n",
    "    def __str__(self):\n",
    "        print(\"This is str method\",self.x)\n",
    "        return str(self.x)\n",
    "        \n",
    "\n",
    "    def __add__(self,other):\n",
    "        x = self.x + other.x\n",
    "        print(\"This is str method\",x)\n",
    "        return Point(x)\n",
    "\n",
    "p1 = Point(1000)\n",
    "p2 = Point(2000)\n",
    "p3 = Point(3000)\n",
    "\n",
    "print(p1 + p2 + p3) #adding two objects, calls str method\n"
   ]
  },
  {
   "cell_type": "code",
   "execution_count": 20,
   "id": "91e4b743-a1b1-4fd1-865d-6df5e4740a3a",
   "metadata": {},
   "outputs": [
    {
     "name": "stdout",
     "output_type": "stream",
     "text": [
      "(1,5)\n"
     ]
    }
   ],
   "source": [
    "class Point:\n",
    "    def __init__(self, x = 0, y = 0):\n",
    "        self.x = x\n",
    "        self.y = y\n",
    "    \n",
    "    def __str__(self):\n",
    "        return \"({0},{1})\".format(self.x,self.y) #formating style -> this is indexing\n",
    "\n",
    "    def __add__(self,other):\n",
    "        x = self.x + other.x\n",
    "        y = self.y + other.y\n",
    "        return Point(x,y)\n",
    "\n",
    "p1 = Point(2,3)\n",
    "p2 = Point(-1,2)\n",
    "print(p1 + p2)"
   ]
  },
  {
   "cell_type": "code",
   "execution_count": null,
   "id": "83625c71-4593-4dc0-ad1c-98cf843938d5",
   "metadata": {},
   "outputs": [],
   "source": []
  }
 ],
 "metadata": {
  "kernelspec": {
   "display_name": "Python 3 (ipykernel)",
   "language": "python",
   "name": "python3"
  },
  "language_info": {
   "codemirror_mode": {
    "name": "ipython",
    "version": 3
   },
   "file_extension": ".py",
   "mimetype": "text/x-python",
   "name": "python",
   "nbconvert_exporter": "python",
   "pygments_lexer": "ipython3",
   "version": "3.13.3"
  }
 },
 "nbformat": 4,
 "nbformat_minor": 5
}
