{
 "cells": [
  {
   "cell_type": "code",
   "execution_count": 2,
   "id": "109c6bd8-7256-43a4-8d61-809d455dd089",
   "metadata": {},
   "outputs": [],
   "source": [
    "# file\n",
    "# f - open('<file_name>', '<modes>')\n",
    "#f.close()\n",
    "\n",
    "# with open(\n",
    "#modes -> there are many modes but we only study four\n",
    "# r-> read\n",
    "# w -> write\n",
    "# a -> append\n",
    "# x -> create\n",
    "# rw -> read write"
   ]
  },
  {
   "cell_type": "code",
   "execution_count": 3,
   "id": "3b95f04c-5be8-4cf0-b8c0-5f8efda81df8",
   "metadata": {},
   "outputs": [],
   "source": [
    "f = open('data.txt','x')\n",
    "f.close()"
   ]
  },
  {
   "cell_type": "code",
   "execution_count": 9,
   "id": "dd8425cc-e14d-4d3d-b20b-6acb56b8bac1",
   "metadata": {},
   "outputs": [
    {
     "name": "stdout",
     "output_type": "stream",
     "text": [
      "Hello world\n",
      "hello world\n",
      "hello world\n",
      "hello world\n",
      "hello world\n"
     ]
    }
   ],
   "source": [
    "f = open('data.txt','r')\n",
    "d = f.read()\n",
    "print(d)\n",
    "f.close()"
   ]
  },
  {
   "cell_type": "code",
   "execution_count": 10,
   "id": "785b7499-9c2e-4f2f-8cb4-f23102ab6122",
   "metadata": {},
   "outputs": [
    {
     "data": {
      "text/plain": [
       "'Hello world\\nhello world\\nhello world\\nhello world\\nhello world'"
      ]
     },
     "execution_count": 10,
     "metadata": {},
     "output_type": "execute_result"
    }
   ],
   "source": [
    "d"
   ]
  },
  {
   "cell_type": "code",
   "execution_count": 11,
   "id": "f6616b16-90a4-46fb-a562-635f8e420cf8",
   "metadata": {},
   "outputs": [
    {
     "data": {
      "text/plain": [
       "['Hello world', 'hello world', 'hello world', 'hello world', 'hello world']"
      ]
     },
     "execution_count": 11,
     "metadata": {},
     "output_type": "execute_result"
    }
   ],
   "source": [
    "l = d.split('\\n')\n",
    "l"
   ]
  },
  {
   "cell_type": "code",
   "execution_count": 24,
   "id": "a0633e35-eff4-4fb8-a834-6d72263d2cf5",
   "metadata": {},
   "outputs": [],
   "source": [
    "#append()\n",
    "f = open('data.txt','a')\n",
    "# d = f.write(\"\\n6. Hello World\") or f.write()\n",
    "f.write(\"\\n7. Hellow world\")\n",
    "f.close()"
   ]
  },
  {
   "cell_type": "code",
   "execution_count": 25,
   "id": "1e0c97ee-c5b0-44c3-88f6-bf1503ae0639",
   "metadata": {},
   "outputs": [
    {
     "name": "stdout",
     "output_type": "stream",
     "text": [
      "1. Hello world\n",
      "2. hello world\n",
      "3. hello world\n",
      "4. hello world\n",
      "5. hello world\n",
      "6. Hello World\n",
      "7. Hellow world\n",
      "7. Hellow world\n",
      "7. Hellow world\n",
      "7. Hellow world\n",
      "7. Hellow world\n"
     ]
    }
   ],
   "source": [
    "#read\n",
    "f = open('data.txt','r')\n",
    "#d = f.read() or f.read()\n",
    "d = f.read()\n",
    "print(d)\n",
    "f.close()"
   ]
  },
  {
   "cell_type": "code",
   "execution_count": 27,
   "id": "4e91a533-8d00-4c0b-947e-f5ffa4f9634f",
   "metadata": {},
   "outputs": [],
   "source": [
    "#write mode\n",
    "f = open('data1.txt','w')\n",
    "f.write(\"Hellow world\")\n",
    "f.close()"
   ]
  },
  {
   "cell_type": "code",
   "execution_count": 30,
   "id": "1e8fa1a0-03d0-432c-9214-8e3ca5eba183",
   "metadata": {},
   "outputs": [
    {
     "name": "stdin",
     "output_type": "stream",
     "text": [
      "Enter n =  3\n",
      "Enter name =  Ram\n",
      "Enter age =  34\n",
      "Enter address =  Ktm\n",
      "Enter phone =  981234566\n",
      "Enter name =  Shyam\n",
      "Enter age =  25\n",
      "Enter address =  lalitput\n",
      "Enter phone =  35435344\n",
      "Enter name =  Hari\n",
      "Enter age =  41\n",
      "Enter address =  bhaktapur\n",
      "Enter phone =  94738398\n"
     ]
    }
   ],
   "source": [
    "#WAP to take name, age, address, phone from user and add it to file\n",
    "info = \"\"\n",
    "n = int(input(\"Enter n = \"))\n",
    "for i in range(n):\n",
    "    name = input(\"Enter name = \")\n",
    "    age = int(input(\"Enter age = \"))\n",
    "    add = input(\"Enter address = \")\n",
    "    phone = input(\"Enter phone = \")\n",
    "    data = f\"{name} {age} {add} {phone}\\n\"\n",
    "    info = info + data\n",
    "    \n",
    "f = open('data1.txt','w')\n",
    "f.write(info)\n",
    "f.close()\n",
    "    "
   ]
  },
  {
   "cell_type": "code",
   "execution_count": 31,
   "id": "35cacaac-f7ce-4e92-8810-0472cdc28f17",
   "metadata": {},
   "outputs": [
    {
     "name": "stdout",
     "output_type": "stream",
     "text": [
      "Ram 34 Ktm 981234566\n",
      "Shyam 25 lalitput 35435344\n",
      "Hari 41 bhaktapur 94738398\n",
      "\n"
     ]
    }
   ],
   "source": [
    "#read\n",
    "f = open('data1.txt','r')\n",
    "d = f.read()\n",
    "print(d)\n",
    "f.close()"
   ]
  },
  {
   "cell_type": "code",
   "execution_count": 2,
   "id": "c45d499e-861f-4fc5-9c52-01fe3a404a8b",
   "metadata": {},
   "outputs": [
    {
     "name": "stdin",
     "output_type": "stream",
     "text": [
      "Enter n =  6\n",
      "Enter name =  Ram\n",
      "Enter age =  34\n",
      "Enter address =  Kathmandu\n",
      "Enter phone =  9846023456\n",
      "Enter name =  Sita\n",
      "Enter age =  22\n",
      "Enter address =  Lalitpur\n",
      "Enter phone =  9823456789\n",
      "Enter name =  Hari\n",
      "Enter age =  25\n",
      "Enter address =  Sindhuli\n",
      "Enter phone =  985478923\n",
      "Enter name =  Gopal\n",
      "Enter age =  29\n",
      "Enter address =  Kavre\n",
      "Enter phone =  9834679090\n",
      "Enter name =  Gita\n",
      "Enter age =  34\n",
      "Enter address =  Sunsari\n",
      "Enter phone =  9856783424\n",
      "Enter name =  Naran\n",
      "Enter age =  31\n",
      "Enter address =  Jhapa\n",
      "Enter phone =  9856783234\n"
     ]
    }
   ],
   "source": [
    "#using .csv instead of .txt, the file can be open with excel\n",
    "info = \"\"\n",
    "n = int(input(\"Enter n = \"))\n",
    "for i in range(n):\n",
    "    name = input(\"Enter name = \")\n",
    "    age = int(input(\"Enter age = \"))\n",
    "    add = input(\"Enter address = \")\n",
    "    phone = input(\"Enter phone = \")\n",
    "    data = f\"{name},{age},{add},{phone}\\n\" #removing spacing and replace with comma\n",
    "    info = info + data\n",
    "    \n",
    "f = open('data.csv','w') #we can also specify where to save file by giving the path \n",
    "#f = open('c:/users/anil.rai/python/data.csv','w')\n",
    "f.write('name,age,add,phone\\n')\n",
    "f.write(info)\n",
    "f.close()"
   ]
  },
  {
   "cell_type": "code",
   "execution_count": 35,
   "id": "8dcb5032-8e9f-4b38-8f60-7753e3cc319a",
   "metadata": {},
   "outputs": [
    {
     "data": {
      "text/plain": [
       "'C:\\\\Users\\\\anil.rai\\\\python'"
      ]
     },
     "execution_count": 35,
     "metadata": {},
     "output_type": "execute_result"
    }
   ],
   "source": [
    "pwd #where is the location of the file location of this jupyter notebook"
   ]
  },
  {
   "cell_type": "code",
   "execution_count": 37,
   "id": "9ee84db7-229f-4223-affa-230deee7b48f",
   "metadata": {},
   "outputs": [
    {
     "name": "stdout",
     "output_type": "stream",
     "text": [
      "name,age,add,phone\n",
      "Ram,22,Kathmandu,9814133505\n",
      "Shyam,24,Lalitpur,9846224415\n",
      "Hari,31,Bhaktapur,9856049855\n",
      "\n"
     ]
    }
   ],
   "source": [
    "#read\n",
    "f = open('data.csv','r')\n",
    "d = f.read()\n",
    "print(d)\n",
    "f.close()"
   ]
  },
  {
   "cell_type": "code",
   "execution_count": 45,
   "id": "45d8f1db-b8ac-46a3-b48b-cad63ce1904b",
   "metadata": {},
   "outputs": [
    {
     "name": "stdin",
     "output_type": "stream",
     "text": [
      "Enter n =  2\n",
      "Enter product name=  Apple\n",
      "Enter qty=  3\n",
      "Enter price=  300\n",
      "Enter product name=  Banana\n",
      "Enter qty=  5\n",
      "Enter price=  150\n"
     ]
    },
    {
     "name": "stdout",
     "output_type": "stream",
     "text": [
      "Bill = \n",
      " Apple,300.0,3.0,900.0,Tue May 13 07:51:09 2025\n",
      "Banana,150.0,5.0,750.0,Tue May 13 07:51:09 2025\n",
      "\n",
      "All total = \n",
      " 1650.0\n"
     ]
    }
   ],
   "source": [
    "#billing\n",
    "\n",
    "import datetime\n",
    "x = datetime.datetime.now()\n",
    "date = x.strftime(\"%c\")\n",
    "\n",
    "info = \"\" #defining string\n",
    "grand_total = 0\n",
    "n = int(input(\"Enter n = \"))\n",
    "for i in range(n):\n",
    "    product = input(\"Enter product name= \")\n",
    "    qty = float(input(\"Enter qty= \"))\n",
    "    price = float(input(\"Enter price= \"))\n",
    "    total = price * qty\n",
    "    row = f\"{product},{price},{qty},{total},{date}\\n\"\n",
    "    info = info + row\n",
    "    grand_total= grand_total + total\n",
    "\n",
    "print(\"Bill = \\n\",info)\n",
    "print(\"All total = \\n\",grand_total)"
   ]
  },
  {
   "cell_type": "code",
   "execution_count": 49,
   "id": "64a1ab3a-707e-44b6-9c51-9ee59a3274a0",
   "metadata": {},
   "outputs": [],
   "source": [
    "f = open('bill.csv','w')\n",
    "f.write('product,price,qty,total,date\\n')\n",
    "f.write(info)\n",
    "f.close()"
   ]
  },
  {
   "cell_type": "code",
   "execution_count": 50,
   "id": "be8f05ee-061e-47ef-8e48-f13f21698476",
   "metadata": {},
   "outputs": [
    {
     "name": "stdout",
     "output_type": "stream",
     "text": [
      "product,price,qty,total,date\n",
      "Apple,300.0,3.0,900.0,Tue May 13 07:51:09 2025\n",
      "Banana,150.0,5.0,750.0,Tue May 13 07:51:09 2025\n",
      "\n"
     ]
    }
   ],
   "source": [
    "f = open('bill.csv','r')\n",
    "d = f.read()\n",
    "print(d)\n",
    "f.close()"
   ]
  },
  {
   "cell_type": "code",
   "execution_count": 51,
   "id": "e35064b7-8f79-44bc-acb2-3ce400bc136b",
   "metadata": {},
   "outputs": [
    {
     "ename": "SyntaxError",
     "evalue": "unexpected character after line continuation character (2995378809.py, line 1)",
     "output_type": "error",
     "traceback": [
      "  \u001b[36mCell\u001b[39m\u001b[36m \u001b[39m\u001b[32mIn[51]\u001b[39m\u001b[32m, line 1\u001b[39m\n\u001b[31m    \u001b[39m\u001b[31mdata = d.split(\\n)[-:-1]\u001b[39m\n                    ^\n\u001b[31mSyntaxError\u001b[39m\u001b[31m:\u001b[39m unexpected character after line continuation character\n"
     ]
    }
   ],
   "source": [
    "data = d.split(\\n)[-:-1]\n",
    "data"
   ]
  }
 ],
 "metadata": {
  "kernelspec": {
   "display_name": "Python 3 (ipykernel)",
   "language": "python",
   "name": "python3"
  },
  "language_info": {
   "codemirror_mode": {
    "name": "ipython",
    "version": 3
   },
   "file_extension": ".py",
   "mimetype": "text/x-python",
   "name": "python",
   "nbconvert_exporter": "python",
   "pygments_lexer": "ipython3",
   "version": "3.13.3"
  }
 },
 "nbformat": 4,
 "nbformat_minor": 5
}
