{
 "cells": [
  {
   "cell_type": "code",
   "execution_count": 3,
   "id": "f76efa65-4eaf-4989-9ee8-eab27f78453e",
   "metadata": {},
   "outputs": [
    {
     "name": "stdin",
     "output_type": "stream",
     "text": [
      "Enter how many people =  1\n",
      "Enter name =  hari\n",
      "Enter phone = 34353\n"
     ]
    },
    {
     "name": "stdout",
     "output_type": "stream",
     "text": [
      " hari 34353\n",
      "\n"
     ]
    }
   ],
   "source": [
    "#WAP to take name and phone number from users and create a simle data entry application\n",
    "#info = str()\n",
    "#info = \" \"\n",
    "#ram + 98123456\n",
    "#shyam + 987382829\n",
    "\n",
    "info = \" \"\n",
    "n = int(input(\"Enter how many people = \"))\n",
    "for i in range(n):\n",
    "    name = input(\"Enter name = \")\n",
    "    phone = input(\"Enter phone =\")\n",
    "    data = name + \" \" + phone + \"\\n\"\n",
    "    info = info + data\n",
    "\n",
    "    print(info)\n",
    "    "
   ]
  },
  {
   "cell_type": "code",
   "execution_count": 13,
   "id": "72f8f56a-8745-4141-b722-1841f8049fe2",
   "metadata": {},
   "outputs": [
    {
     "name": "stdin",
     "output_type": "stream",
     "text": [
      "Enter n =  3\n",
      "Enter product name= coke\n",
      "Enter qty= 3\n",
      "Enter price= 100\n",
      "Enter product name= momo\n",
      "Enter qty= 2\n",
      "Enter price= 120\n",
      "Enter product name= chowmin\n",
      "Enter qty= 1\n",
      "Enter price= 100\n"
     ]
    },
    {
     "name": "stdout",
     "output_type": "stream",
     "text": [
      "Bill = \n",
      " coke 100.0 3.0 300.0\n",
      "momo 120.0 2.0 240.0\n",
      "chowmin 100.0 1.0 100.0\n",
      "\n",
      "All total =\n",
      " 640.0\n"
     ]
    }
   ],
   "source": [
    "#billing\n",
    "info = \"\"\n",
    "grand_total = 0\n",
    "n = int(input(\"Enter n = \"))\n",
    "for i in range(n):\n",
    "    product = input(\"Enter product name=\")\n",
    "    qty = float(input(\"Enter qty=\"))\n",
    "    price = float(input(\"Enter price=\"))\n",
    "    total = price * qty\n",
    "    row = product + \" \" + str(price) + \" \" + str(qty) + \" \" + str(total) + \"\\n\"\n",
    "    info = info + row\n",
    "    grand_total= grand_total + total\n",
    "\n",
    "print(\"Bill = \\n\",info)\n",
    "print(\"All total\",grand_total)\n"
   ]
  },
  {
   "cell_type": "code",
   "execution_count": 15,
   "id": "93afea24-fdcf-449b-97f7-5c8bfd5300c9",
   "metadata": {},
   "outputs": [
    {
     "name": "stdout",
     "output_type": "stream",
     "text": [
      "\n",
      "o\n",
      "oo\n",
      "ooo\n",
      "oooo\n"
     ]
    }
   ],
   "source": [
    "for i in range(5): #0,1,2,3,4\n",
    "    print(i*\"o\")\n",
    "    "
   ]
  },
  {
   "cell_type": "code",
   "execution_count": 16,
   "id": "70b985d9-5d4d-4f10-8e88-b73d8587c6a9",
   "metadata": {},
   "outputs": [
    {
     "name": "stdout",
     "output_type": "stream",
     "text": [
      "00000\n",
      "0000\n",
      "000\n",
      "00\n",
      "0\n"
     ]
    }
   ],
   "source": [
    "for i in range(5,0,-1): #5,4,3,2,1\n",
    "    print(i*\"0\")"
   ]
  },
  {
   "cell_type": "code",
   "execution_count": 1,
   "id": "944bad13-631e-42ef-8e4f-600be9461b66",
   "metadata": {},
   "outputs": [
    {
     "ename": "TypeError",
     "evalue": "unsupported operand type(s) for -: 'int' and 'str'",
     "output_type": "error",
     "traceback": [
      "\u001b[31m---------------------------------------------------------------------------\u001b[39m",
      "\u001b[31mTypeError\u001b[39m                                 Traceback (most recent call last)",
      "\u001b[36mCell\u001b[39m\u001b[36m \u001b[39m\u001b[32mIn[1]\u001b[39m\u001b[32m, line 2\u001b[39m\n\u001b[32m      1\u001b[39m \u001b[38;5;28;01mfor\u001b[39;00m i \u001b[38;5;129;01min\u001b[39;00m \u001b[38;5;28mrange\u001b[39m(\u001b[32m5\u001b[39m):\n\u001b[32m----> \u001b[39m\u001b[32m2\u001b[39m     \u001b[38;5;28mprint\u001b[39m(\u001b[32;43m2\u001b[39;49m\u001b[43m*\u001b[49m\u001b[43mi\u001b[49m\u001b[43m-\u001b[49m\u001b[32;43m1\u001b[39;49m\u001b[43m*\u001b[49m\u001b[33;43m\"\u001b[39;49m\u001b[33;43m \u001b[39;49m\u001b[33;43m\"\u001b[39;49m,*\u001b[33m\"\u001b[39m\u001b[33mo\u001b[39m\u001b[33m\"\u001b[39m)\n",
      "\u001b[31mTypeError\u001b[39m: unsupported operand type(s) for -: 'int' and 'str'"
     ]
    }
   ],
   "source": [
    "for i in range(5):\n",
    "    print(2*i-1*\" \",*\"o\")\n",
    "\n",
    "    "
   ]
  },
  {
   "cell_type": "code",
   "execution_count": 3,
   "id": "095ac802-032a-4d54-8967-446c6f143085",
   "metadata": {},
   "outputs": [
    {
     "name": "stdout",
     "output_type": "stream",
     "text": [
      "0\n",
      "1\n",
      "2\n",
      "3\n",
      "4\n",
      "5\n",
      "6\n",
      "7\n",
      "8\n",
      "9\n"
     ]
    }
   ],
   "source": [
    "#29 April\n",
    "#Control statments\n",
    "#1. break\n",
    "#2. Continute\n",
    "\n",
    "for i in range(10):\n",
    "    print(i)\n"
   ]
  },
  {
   "cell_type": "code",
   "execution_count": 8,
   "id": "2ba60b07-96b9-4602-a37d-367bad9b92d3",
   "metadata": {
    "collapsed": true,
    "jupyter": {
     "outputs_hidden": true
    }
   },
   "outputs": [
    {
     "name": "stdout",
     "output_type": "stream",
     "text": [
      "0\n",
      "1\n",
      "2\n",
      "3\n",
      "4\n"
     ]
    }
   ],
   "source": [
    "for i in range(10):\n",
    "    if i==5:\n",
    "        break\n",
    "    print(i)"
   ]
  },
  {
   "cell_type": "code",
   "execution_count": 10,
   "id": "22173705-e6d1-4b36-acba-4c053a05a756",
   "metadata": {},
   "outputs": [
    {
     "name": "stdout",
     "output_type": "stream",
     "text": [
      "0\n",
      "1\n",
      "2\n",
      "3\n",
      "4\n",
      "6\n",
      "7\n",
      "8\n",
      "9\n"
     ]
    }
   ],
   "source": [
    "for i in range(10):\n",
    "    if i==5:\n",
    "        continue\n",
    "    print(i)"
   ]
  },
  {
   "cell_type": "code",
   "execution_count": 11,
   "id": "3ee5db74-7109-4452-b0b3-ebe2fdd24fa1",
   "metadata": {},
   "outputs": [
    {
     "name": "stdout",
     "output_type": "stream",
     "text": [
      "H\n",
      "e\n",
      "l\n",
      "l\n",
      "o\n",
      " \n",
      "w\n",
      "o\n",
      "r\n",
      "l\n",
      "d\n"
     ]
    }
   ],
   "source": [
    "a = \"Hello world. I am from Kathmandu.\"\n",
    "for i in a:\n",
    "    if i==\".\":\n",
    "        break\n",
    "    print(i)\n"
   ]
  },
  {
   "cell_type": "code",
   "execution_count": 15,
   "id": "4cd2132f-cbfc-4de1-836e-82c2225cf0ee",
   "metadata": {},
   "outputs": [
    {
     "name": "stdout",
     "output_type": "stream",
     "text": [
      "Hello world"
     ]
    }
   ],
   "source": [
    "a = \"Hello world. I am from Kathmandu.\"\n",
    "for i in a:\n",
    "    if i == \".\":\n",
    "        break\n",
    "    print(i, end=\"\")"
   ]
  },
  {
   "cell_type": "code",
   "execution_count": 13,
   "id": "816fce0e-da5f-497b-be95-e303d4a46b54",
   "metadata": {},
   "outputs": [
    {
     "name": "stdout",
     "output_type": "stream",
     "text": [
      "Helo world"
     ]
    }
   ],
   "source": [
    "a = \"Helo world. I am from Kathamdnu.\"\n",
    "for i in a:\n",
    "    if i==\".\":\n",
    "        break\n",
    "    print(i,end=\"\")"
   ]
  },
  {
   "cell_type": "code",
   "execution_count": 14,
   "id": "8b7ae749-0372-43f1-b1bd-a5f579d79cba",
   "metadata": {},
   "outputs": [
    {
     "name": "stdout",
     "output_type": "stream",
     "text": [
      "Hello world I am from Kathmandu"
     ]
    }
   ],
   "source": [
    "a = \"Hello world. I am from Kathmandu.\"\n",
    "for i in a:\n",
    "    if i==\".\":\n",
    "        continue\n",
    "    print(i, end =\"\")"
   ]
  },
  {
   "cell_type": "code",
   "execution_count": 16,
   "id": "f7c7571c-fb6d-4161-9878-648f21eea53f",
   "metadata": {},
   "outputs": [
    {
     "name": "stdout",
     "output_type": "stream",
     "text": [
      "Hello world I am from Kathmandu"
     ]
    }
   ],
   "source": [
    "a = \"Hello world. I am from Kathmandu.\"\n",
    "for i in a:\n",
    "    if i == \".\":\n",
    "        continue\n",
    "    else:\n",
    "        print(i, end =\"\")"
   ]
  },
  {
   "cell_type": "code",
   "execution_count": 17,
   "id": "2c4e5aab-e094-4dbd-a832-49b668cdda57",
   "metadata": {},
   "outputs": [
    {
     "name": "stdin",
     "output_type": "stream",
     "text": [
      "Enter n= 5\n"
     ]
    },
    {
     "name": "stdout",
     "output_type": "stream",
     "text": [
      "Prime no.\n",
      "Prime no.\n",
      "Prime no.\n"
     ]
    }
   ],
   "source": [
    "#WAP to find if the number is prime or composite\n",
    "#prime no: 2,3,5,7,11,17\n",
    "#composite no: 4,6,8,9,10,12\n",
    "\n",
    "n = int(input(\"Enter n=\"))\n",
    "for i in range(2,n):\n",
    "    if n % i == 0:  #% modulus, remainder\n",
    "        print(\"Composite no.\")\n",
    "        \n",
    "    else:\n",
    "        print(\"Prime no.\")"
   ]
  },
  {
   "cell_type": "code",
   "execution_count": 18,
   "id": "e56abed5-cabb-4f97-93b4-a520fd447b60",
   "metadata": {},
   "outputs": [
    {
     "name": "stdin",
     "output_type": "stream",
     "text": [
      "Enter n= 9\n"
     ]
    },
    {
     "name": "stdout",
     "output_type": "stream",
     "text": [
      "Prime no.\n",
      "Composite no.\n",
      "Prime no.\n",
      "Prime no.\n",
      "Prime no.\n",
      "Prime no.\n",
      "Prime no.\n"
     ]
    }
   ],
   "source": [
    "#WAP to find if the number is prime or composite\n",
    "#prime no: 2,3,5,7,11,17\n",
    "#composite no: 4,6,8,9,10,12\n",
    "\n",
    "n = int(input(\"Enter n=\"))\n",
    "for i in range(2,n):\n",
    "    if n % i == 0:  #% modulus, remainder\n",
    "        print(\"Composite no.\")\n",
    "        \n",
    "    else:\n",
    "        print(\"Prime no.\")"
   ]
  },
  {
   "cell_type": "code",
   "execution_count": 19,
   "id": "b71a7b00-053a-4abb-8c58-5efc1c610c2a",
   "metadata": {},
   "outputs": [
    {
     "name": "stdin",
     "output_type": "stream",
     "text": [
      "Enter n= 9\n"
     ]
    },
    {
     "name": "stdout",
     "output_type": "stream",
     "text": [
      "Prime no.\n",
      "Composite no.\n"
     ]
    }
   ],
   "source": [
    "#WAP to find if the number is prime or composite\n",
    "#prime no: 2,3,5,7,11,17\n",
    "#composite no: 4,6,8,9,10,12\n",
    "\n",
    "n = int(input(\"Enter n=\"))\n",
    "for i in range(2,n):\n",
    "    if n % i == 0:  #% modulus, remainder\n",
    "        print(\"Composite no.\")\n",
    "        break\n",
    "    else:                           #if else loop\n",
    "        print(\"Prime no.\")"
   ]
  },
  {
   "cell_type": "code",
   "execution_count": 20,
   "id": "7874c6e9-6261-4ee5-807b-c8dea14cc34e",
   "metadata": {},
   "outputs": [
    {
     "name": "stdin",
     "output_type": "stream",
     "text": [
      "Enter n= 9\n"
     ]
    },
    {
     "name": "stdout",
     "output_type": "stream",
     "text": [
      "Composite no.\n"
     ]
    }
   ],
   "source": [
    "#WAP to find if the number is prime or composite\n",
    "#prime no: 2,3,5,7,11,17\n",
    "#composite no: 4,6,8,9,10,12\n",
    "\n",
    "n = int(input(\"Enter n=\"))\n",
    "for i in range(2,n):\n",
    "    if n % i == 0:  #% modulus, remainder\n",
    "        print(\"Composite no.\")\n",
    "        break\n",
    "else:                              #this became for else loop\n",
    "    print(\"Prime no.\")"
   ]
  },
  {
   "cell_type": "code",
   "execution_count": 21,
   "id": "01ecad8c-ef93-4698-81a4-5970435feb51",
   "metadata": {},
   "outputs": [
    {
     "name": "stdin",
     "output_type": "stream",
     "text": [
      "Enter n= 11\n"
     ]
    },
    {
     "name": "stdout",
     "output_type": "stream",
     "text": [
      "Prime no.\n"
     ]
    }
   ],
   "source": [
    "#WAP to find if the number is prime or composite\n",
    "#prime no: 2,3,5,7,11,17\n",
    "#composite no: 4,6,8,9,10,12\n",
    "\n",
    "n = int(input(\"Enter n=\"))\n",
    "for i in range(2,n):\n",
    "    if n % i == 0:  #% modulus, remainder\n",
    "        print(\"Composite no.\")\n",
    "        break\n",
    "else:                              #this became for else loop\n",
    "    print(\"Prime no.\")"
   ]
  },
  {
   "cell_type": "code",
   "execution_count": 22,
   "id": "ae2c7fff-9d2b-4652-bc08-31b73fa8402e",
   "metadata": {},
   "outputs": [],
   "source": [
    "#while loop\n",
    "#while <condition>:\n",
    "#    <operations> "
   ]
  },
  {
   "cell_type": "code",
   "execution_count": 1,
   "id": "7fdf25ae-be1e-4890-ae8f-0ae0712f28b9",
   "metadata": {},
   "outputs": [
    {
     "name": "stdout",
     "output_type": "stream",
     "text": [
      "0\n",
      "1\n",
      "2\n",
      "3\n",
      "4\n"
     ]
    }
   ],
   "source": [
    "i = 0\n",
    "while i < 5:\n",
    "    print(i)\n",
    "    i = i + 1"
   ]
  },
  {
   "cell_type": "code",
   "execution_count": 2,
   "id": "70e7433e-c150-4755-ad47-ab06d605343c",
   "metadata": {},
   "outputs": [
    {
     "name": "stdout",
     "output_type": "stream",
     "text": [
      "0\n",
      "1\n",
      "2\n",
      "3\n",
      "4\n",
      "5\n"
     ]
    }
   ],
   "source": [
    "i = 0\n",
    "while i<10:\n",
    "    if i ==6:\n",
    "        break\n",
    "    print(i)\n",
    "    i = i+1"
   ]
  },
  {
   "cell_type": "code",
   "execution_count": 3,
   "id": "fcfdf6ee-e3d3-4de8-8be2-5f2a12597f3b",
   "metadata": {},
   "outputs": [
    {
     "name": "stdout",
     "output_type": "stream",
     "text": [
      "0\n",
      "1\n",
      "2\n",
      "3\n",
      "4\n",
      "5\n",
      "Hello World\n"
     ]
    }
   ],
   "source": [
    "i = 0\n",
    "while i<10:\n",
    "    if i ==6:\n",
    "        break  #break terminates only what's inside the loop not outside such as \"Hello World\" in this case\n",
    "    print(i)\n",
    "    i = i+1\n",
    "\n",
    "print(\"Hello World\")"
   ]
  },
  {
   "cell_type": "code",
   "execution_count": null,
   "id": "d120ffa0-9835-4f94-b8f3-959288d5f3a1",
   "metadata": {},
   "outputs": [
    {
     "name": "stdout",
     "output_type": "stream",
     "text": [
      "0\n",
      "1\n",
      "2\n",
      "3\n",
      "4\n",
      "5\n"
     ]
    }
   ],
   "source": [
    "i = 0\n",
    "while i<10:\n",
    "    if i ==6:\n",
    "        continue  #this is infinitely running as the condition meets, as continue stops executing when the condition meets \n",
    "    print(i)\n",
    "    i = i+1"
   ]
  },
  {
   "cell_type": "code",
   "execution_count": 3,
   "id": "0472c05c-1d13-4147-bfef-a02c68246512",
   "metadata": {},
   "outputs": [
    {
     "name": "stdout",
     "output_type": "stream",
     "text": [
      "0\n",
      "1\n",
      "2\n",
      "3\n",
      "4\n",
      "5\n",
      "7\n",
      "8\n",
      "9\n"
     ]
    }
   ],
   "source": [
    "i = 0\n",
    "while i<10:\n",
    "    if i == 6:\n",
    "        i = i + 1\n",
    "        continue\n",
    "    print(i)\n",
    "    i = i + 1"
   ]
  },
  {
   "cell_type": "code",
   "execution_count": 5,
   "id": "61e210f3-b281-4df8-98bb-331ad9ccb2b7",
   "metadata": {},
   "outputs": [
    {
     "name": "stdout",
     "output_type": "stream",
     "text": [
      "5\n",
      "4\n",
      "3\n",
      "2\n",
      "1\n"
     ]
    }
   ],
   "source": [
    "i = 5\n",
    "while i > 0:\n",
    "    print(i)\n",
    "    i = i - 1"
   ]
  },
  {
   "cell_type": "code",
   "execution_count": 7,
   "id": "38ad7173-8608-4f09-b37e-58b66d054a36",
   "metadata": {},
   "outputs": [
    {
     "name": "stdin",
     "output_type": "stream",
     "text": [
      "Enter x =  7\n"
     ]
    },
    {
     "name": "stdout",
     "output_type": "stream",
     "text": [
      "7 * 1 = 7\n",
      "7 * 2 = 14\n",
      "7 * 3 = 21\n",
      "7 * 4 = 28\n",
      "7 * 5 = 35\n",
      "7 * 6 = 42\n",
      "7 * 7 = 49\n",
      "7 * 8 = 56\n",
      "7 * 9 = 63\n",
      "7 * 10 = 70\n"
     ]
    }
   ],
   "source": [
    "i = 1\n",
    "x = int(input(\"Enter x = \"))\n",
    "while i<=10:   #in while loop we can write <= but not in for loop\n",
    "    print(x,\"*\",i,\"=\",x*i) #5*1=5\n",
    "    i = i +1"
   ]
  },
  {
   "cell_type": "code",
   "execution_count": 9,
   "id": "6fe5226d-bd06-44ee-82ee-29bf49335db8",
   "metadata": {},
   "outputs": [
    {
     "name": "stdin",
     "output_type": "stream",
     "text": [
      "Enter no. of entries = 2\n",
      "Enter money =  1200\n",
      "Enter money =  1323\n"
     ]
    },
    {
     "name": "stdout",
     "output_type": "stream",
     "text": [
      "2523\n"
     ]
    }
   ],
   "source": [
    "#WAP that calcuates sum of given numbers\n",
    "i = 0\n",
    "s = 0\n",
    "n = int(input(\"Enter no. of entries =\"))\n",
    "while i<n:\n",
    "    m = int(input(\"Enter money = \"))\n",
    "    s = s + m\n",
    "    i = i+1\n",
    "print(s)"
   ]
  },
  {
   "cell_type": "code",
   "execution_count": 2,
   "id": "b31dd1a0-ba06-497c-917b-8066c4e6aad8",
   "metadata": {},
   "outputs": [
    {
     "name": "stdin",
     "output_type": "stream",
     "text": [
      "Enter your password:  Data Science with Python\n"
     ]
    },
    {
     "name": "stdout",
     "output_type": "stream",
     "text": [
      "Access granted.\n"
     ]
    }
   ],
   "source": [
    "# Predefined correct password\n",
    "correct_password = \"Data Science with Python\"\n",
    "\n",
    "# Ask user to input password\n",
    "user_password = input(\"Enter your password: \")\n",
    "\n",
    "\n",
    "# Check if the password is correct\n",
    "if user_password == correct_password:\n",
    "    print(\"Access granted.\")\n",
    "else:\n",
    "    print(\"Access denied. Incorrect password.\")"
   ]
  }
 ],
 "metadata": {
  "kernelspec": {
   "display_name": "Python 3 (ipykernel)",
   "language": "python",
   "name": "python3"
  },
  "language_info": {
   "codemirror_mode": {
    "name": "ipython",
    "version": 3
   },
   "file_extension": ".py",
   "mimetype": "text/x-python",
   "name": "python",
   "nbconvert_exporter": "python",
   "pygments_lexer": "ipython3",
   "version": "3.13.3"
  }
 },
 "nbformat": 4,
 "nbformat_minor": 5
}
