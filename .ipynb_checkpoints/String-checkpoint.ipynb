{
 "cells": [
  {
   "cell_type": "code",
   "execution_count": 1,
   "id": "8a0d30c3-376d-4f65-a059-17334479b92d",
   "metadata": {},
   "outputs": [
    {
     "name": "stdout",
     "output_type": "stream",
     "text": [
      "hello world\n",
      "hello world\n",
      "hello world\n"
     ]
    }
   ],
   "source": [
    "#string\n",
    "a = 'hello world'\n",
    "b = \"hello world\"\n",
    "c = '''hello world'''\n",
    "\n",
    "print(a)\n",
    "print(b)\n",
    "print(c)\n"
   ]
  },
  {
   "cell_type": "code",
   "execution_count": 2,
   "id": "818e7e73-f29e-4b9c-a336-5e80cbcd77af",
   "metadata": {},
   "outputs": [
    {
     "name": "stdout",
     "output_type": "stream",
     "text": [
      "HelloWorld\n"
     ]
    }
   ],
   "source": [
    "#concat or append\n",
    "a = \"Hello\"\n",
    "b = \"World\"\n",
    "c = a+b\n",
    "print(c)\n"
   ]
  },
  {
   "cell_type": "code",
   "execution_count": 3,
   "id": "527e5838-bf4a-438f-b7cc-b8595f1cedd4",
   "metadata": {},
   "outputs": [
    {
     "name": "stdout",
     "output_type": "stream",
     "text": [
      "Hello worldHello world\n"
     ]
    }
   ],
   "source": [
    "#string with multiplication\n",
    "a = \"Hello world\"\n",
    "print(a*2)\n"
   ]
  },
  {
   "cell_type": "code",
   "execution_count": 4,
   "id": "aa3128e9-298a-42a4-83ca-b7462b90bcae",
   "metadata": {},
   "outputs": [
    {
     "name": "stdin",
     "output_type": "stream",
     "text": [
      "Enter name =  Ram\n"
     ]
    },
    {
     "name": "stdout",
     "output_type": "stream",
     "text": [
      "Ram\n"
     ]
    }
   ],
   "source": [
    "#Input and print what has been entered/typed\n",
    "name = input(\"Enter name = \")\n",
    "print(name)\n"
   ]
  },
  {
   "cell_type": "code",
   "execution_count": 5,
   "id": "5492c684-a727-4148-8403-90972d469b0b",
   "metadata": {},
   "outputs": [
    {
     "name": "stdout",
     "output_type": "stream",
     "text": [
      "H\n",
      "e\n",
      "l\n",
      "l\n",
      "o\n"
     ]
    }
   ],
   "source": [
    "#string is immutable data type. String is iterrable.\n",
    "a = \"Hello\"\n",
    "for i in a:\n",
    "    print(i)"
   ]
  },
  {
   "cell_type": "code",
   "execution_count": 7,
   "id": "5d80239d-e74f-436e-a17a-128afa96c7bb",
   "metadata": {},
   "outputs": [
    {
     "ename": "TypeError",
     "evalue": "'int' object is not iterable",
     "output_type": "error",
     "traceback": [
      "\u001b[31m---------------------------------------------------------------------------\u001b[39m",
      "\u001b[31mTypeError\u001b[39m                                 Traceback (most recent call last)",
      "\u001b[36mCell\u001b[39m\u001b[36m \u001b[39m\u001b[32mIn[7]\u001b[39m\u001b[32m, line 2\u001b[39m\n\u001b[32m      1\u001b[39m a = \u001b[32m10\u001b[39m\n\u001b[32m----> \u001b[39m\u001b[32m2\u001b[39m \u001b[38;5;28;43;01mfor\u001b[39;49;00m\u001b[43m \u001b[49m\u001b[43mi\u001b[49m\u001b[43m \u001b[49m\u001b[38;5;129;43;01min\u001b[39;49;00m\u001b[43m \u001b[49m\u001b[43ma\u001b[49m\u001b[43m:\u001b[49m\n\u001b[32m      3\u001b[39m \u001b[43m    \u001b[49m\u001b[38;5;28;43mprint\u001b[39;49m\u001b[43m(\u001b[49m\u001b[43mi\u001b[49m\u001b[43m)\u001b[49m\n",
      "\u001b[31mTypeError\u001b[39m: 'int' object is not iterable"
     ]
    }
   ],
   "source": [
    "a = 10\n",
    "for i in a:\n",
    "    print(i)"
   ]
  },
  {
   "cell_type": "code",
   "execution_count": 9,
   "id": "14d7517a-7168-4ed9-888f-e9a3f2637fb1",
   "metadata": {},
   "outputs": [
    {
     "name": "stdout",
     "output_type": "stream",
     "text": [
      "l\n",
      "d\n"
     ]
    }
   ],
   "source": [
    "#Indexing\n",
    "a = 'Hello world'\n",
    "print(a[3]) #always use big bracket in indexing. From left to right it starts with 0.\n",
    "print(a[-1]) #from right to left starts from -1\n",
    "\n"
   ]
  },
  {
   "cell_type": "code",
   "execution_count": 11,
   "id": "70830d23-6688-4c9e-a1e0-0904e3e509c8",
   "metadata": {},
   "outputs": [
    {
     "name": "stdout",
     "output_type": "stream",
     "text": [
      "hello\n"
     ]
    }
   ],
   "source": [
    "#slicing\n",
    "a = 'hello world'\n",
    "print(a[0:5])"
   ]
  },
  {
   "cell_type": "code",
   "execution_count": 13,
   "id": "7f6fee00-9671-4155-afc9-154117019399",
   "metadata": {},
   "outputs": [
    {
     "name": "stdout",
     "output_type": "stream",
     "text": [
      "hello\n",
      " world\n"
     ]
    }
   ],
   "source": [
    "#slicing\n",
    "a = 'hello world'\n",
    "print(a[0:5])\n",
    "print(a[5:])"
   ]
  },
  {
   "cell_type": "code",
   "execution_count": 16,
   "id": "11a534fb-d5f3-4134-baed-3ff9e433007e",
   "metadata": {},
   "outputs": [
    {
     "name": "stdout",
     "output_type": "stream",
     "text": [
      "hello\n",
      " world\n"
     ]
    }
   ],
   "source": [
    "#slicing\n",
    "a = 'hello world'\n",
    "b = a[0:5]\n",
    "c = a[5:]\n",
    "print(b)\n",
    "print(c)"
   ]
  },
  {
   "cell_type": "code",
   "execution_count": 17,
   "id": "fc5b2a36-b1df-4092-81f4-92e57fe6028d",
   "metadata": {},
   "outputs": [
    {
     "name": "stdout",
     "output_type": "stream",
     "text": [
      "0\n",
      "1\n",
      "2\n",
      "3\n",
      "4\n",
      "5\n",
      "6\n",
      "7\n",
      "8\n",
      "9\n",
      "10\n"
     ]
    }
   ],
   "source": [
    "#using range\n",
    "a = \"Hello World\"\n",
    "l = len(a)\n",
    "for i in range(l):\n",
    "    print(i)"
   ]
  },
  {
   "cell_type": "code",
   "execution_count": 18,
   "id": "36eb888d-c0aa-497b-b4ea-1cefccf69c65",
   "metadata": {},
   "outputs": [
    {
     "name": "stdout",
     "output_type": "stream",
     "text": [
      "H\n",
      "e\n",
      "l\n",
      "l\n",
      "o\n",
      " \n",
      "W\n",
      "o\n",
      "r\n",
      "l\n",
      "d\n"
     ]
    }
   ],
   "source": [
    "#using range\n",
    "a = \"Hello World\"\n",
    "l = len(a)\n",
    "for i in range(l):\n",
    "    print(a[i])"
   ]
  },
  {
   "cell_type": "code",
   "execution_count": 19,
   "id": "2a58ca00-76b0-40e9-9ea5-f568ab68e8f8",
   "metadata": {},
   "outputs": [
    {
     "name": "stdout",
     "output_type": "stream",
     "text": [
      "H e l l o   W o r l d "
     ]
    }
   ],
   "source": [
    "#using range\n",
    "a = \"Hello World\"\n",
    "l = len(a)\n",
    "for i in range(l):\n",
    "    print(a[i], end = \" \")\n"
   ]
  },
  {
   "cell_type": "code",
   "execution_count": 22,
   "id": "57485dd4-a7ef-44a5-bcab-248c6764921b",
   "metadata": {},
   "outputs": [
    {
     "name": "stdout",
     "output_type": "stream",
     "text": [
      "H e l l o   W o r l d "
     ]
    }
   ],
   "source": [
    "#while loop. The index starts from 0.\n",
    "i = 0\n",
    "while i<len(a):\n",
    "    print(a[i], end = \" \")\n",
    "    i = i+1"
   ]
  },
  {
   "cell_type": "code",
   "execution_count": 27,
   "id": "92c4c68e-8a27-4f20-9597-c6253cb76e8e",
   "metadata": {},
   "outputs": [
    {
     "name": "stdout",
     "output_type": "stream",
     "text": [
      "Hello world. I am Ram I am from Kathmandu I am 34\n"
     ]
    }
   ],
   "source": [
    "#string formatting\n",
    "name = \"Ram\"\n",
    "age = 34\n",
    "address = \"Kathmandu\"\n",
    "info = \"Hello world. I am \" + name + \" I am from \" + address + \" I am \" + str(age) \n",
    "print(info)"
   ]
  },
  {
   "cell_type": "code",
   "execution_count": 29,
   "id": "b325487c-ad7b-461f-9f5e-58ae4f682e7e",
   "metadata": {},
   "outputs": [
    {
     "name": "stdout",
     "output_type": "stream",
     "text": [
      "Hello World I am Ram. I am from Kathmandu. I am 34\n",
      "Hello World I am {name}. I am from {address}. I am {age}\n"
     ]
    }
   ],
   "source": [
    "#string formatting\n",
    "name = \"Ram\"\n",
    "age = 34\n",
    "address = \"Kathmandu\"\n",
    "info = f\"Hello World I am {name}. I am from {address}. I am {age}\" #f, meaning formatting is here, which provides formatting to what's inside the curly bracket\n",
    "print(info)\n",
    "info = \"Hello World I am {name}. I am from {address}. I am {age}\" #without using f\n",
    "print(info)"
   ]
  },
  {
   "cell_type": "code",
   "execution_count": 31,
   "id": "b20d67e4-fa07-4f6b-9628-16f612d32979",
   "metadata": {},
   "outputs": [
    {
     "name": "stdin",
     "output_type": "stream",
     "text": [
      "Enter n =  2\n",
      "Enter product name= momo\n",
      "Enter qty= 5\n",
      "Enter price= 120\n",
      "Enter product name= coke\n",
      "Enter qty= 4\n",
      "Enter price= 100\n"
     ]
    },
    {
     "name": "stdout",
     "output_type": "stream",
     "text": [
      "Bill = \n",
      " momo 120.0 5.0 600.0\n",
      "coke 100.0 4.0 400.0\n",
      "\n",
      "All total = \n",
      " 1000.0\n"
     ]
    }
   ],
   "source": [
    "#WAP to create a billing system using string formatting. This billing code (from loop) is redone with string formatting\n",
    "info = \"\" #varialbe initialise\n",
    "row = 0 #this is optional, no need to do\n",
    "grand_total = 0 #varialbe initialise, define\n",
    "n = int(input(\"Enter n = \"))\n",
    "for i in range(n):\n",
    "    product = input(\"Enter product name=\")\n",
    "    qty = float(input(\"Enter qty=\"))\n",
    "    price = float(input(\"Enter price=\"))\n",
    "    total = price * qty\n",
    "    row = f\"{product} {price} {qty} {total}\\n\"\n",
    "    info = info + row\n",
    "    grand_total= grand_total + total\n",
    "\n",
    "print(\"Bill = \\n\",info)\n",
    "print(\"All total = \\n\",grand_total)"
   ]
  },
  {
   "cell_type": "code",
   "execution_count": 34,
   "id": "f3b3a7e0-4393-4cb2-a491-c84be944422f",
   "metadata": {},
   "outputs": [
    {
     "name": "stdout",
     "output_type": "stream",
     "text": [
      "yes\n"
     ]
    }
   ],
   "source": [
    "#search in string. This is to prove or check string is immutable.\n",
    "a = \"Ram Shyam Hari Gopal\" #but in reality, it is better to save the student roll no. instead of storing them in string as it has its own flaws\n",
    "b = \"Ram\"\n",
    "if b in a:\n",
    "    print(\"yes\")\n",
    "else:\n",
    "    print(\"No\")"
   ]
  },
  {
   "cell_type": "code",
   "execution_count": 36,
   "id": "3191c4c0-3e46-46fd-b497-8d8eeedafd59",
   "metadata": {},
   "outputs": [
    {
     "name": "stdin",
     "output_type": "stream",
     "text": [
      "Enter name =  Ram\n"
     ]
    },
    {
     "name": "stdout",
     "output_type": "stream",
     "text": [
      "yes\n"
     ]
    }
   ],
   "source": [
    "#search in string. This is to prove or check string is immutable.\n",
    "a = \"Ram Shyam Hari Gopal Ram\" #but in reality, it is better to save the student roll no. instead of storing them in string as it has its own flaws\n",
    "b = \"Ram\"\n",
    "if b in a:\n",
    "    print(\"yes\")\n",
    "    print(a.count(\"Ram\"))  #no. of times the word Ram has been repeated in the a\n",
    "else:\n",
    "    print(\"No\")"
   ]
  },
  {
   "cell_type": "code",
   "execution_count": 38,
   "id": "4fe2f557-ec3e-4ce9-94e1-0576ebfa17bb",
   "metadata": {},
   "outputs": [
    {
     "name": "stdin",
     "output_type": "stream",
     "text": [
      "Enter name =  Ram\n"
     ]
    },
    {
     "name": "stdout",
     "output_type": "stream",
     "text": [
      "yes\n",
      "0\n"
     ]
    }
   ],
   "source": [
    "#search in string. This is to prove or check string is immutable.\n",
    "a = \"Ram Shyam Hari Gopal Ram\" #but in reality, it is better to save the student roll no. instead of storing them in string as it has its own flaws. To sort out this, we use array.\n",
    "b = input(\"Enter name = \")\n",
    "if b in a:\n",
    "    print(\"yes\")\n",
    "    print(a.count(\"b\"))  #no. of times the word inserted has been repeated in the a\n",
    "else:\n",
    "    print(\"No\")"
   ]
  },
  {
   "cell_type": "code",
   "execution_count": 42,
   "id": "bd232fee-64bb-4988-b05e-de385ec043fc",
   "metadata": {},
   "outputs": [
    {
     "name": "stdout",
     "output_type": "stream",
     "text": [
      "Ram Shyam Hari Gopal Ram\n"
     ]
    }
   ],
   "source": [
    "#string is immutable\n",
    "a = \"Ram Shyam Hari Gopal Ram\" \n",
    "a.lower()\n",
    "print(a)"
   ]
  },
  {
   "cell_type": "code",
   "execution_count": 43,
   "id": "f639e870-50c7-4be8-adb3-653be8919f4b",
   "metadata": {},
   "outputs": [
    {
     "data": {
      "text/plain": [
       "'ram'"
      ]
     },
     "execution_count": 43,
     "metadata": {},
     "output_type": "execute_result"
    }
   ],
   "source": [
    "a = \"rAm\"\n",
    "a.lower() #the text is not updated, but it is just showing"
   ]
  },
  {
   "cell_type": "code",
   "execution_count": 40,
   "id": "1f100849-d02d-4e76-9af1-b3f568353a10",
   "metadata": {},
   "outputs": [
    {
     "name": "stdout",
     "output_type": "stream",
     "text": [
      "ram shyam hari gopal ram\n"
     ]
    }
   ],
   "source": [
    "#.lower()\n",
    "a = \"Ram Shyam Hari Gopal Ram\" \n",
    "a = a.lower()\n",
    "print(a)"
   ]
  },
  {
   "cell_type": "code",
   "execution_count": 41,
   "id": "483f1403-ea4d-4e7c-be33-ea008a9337d6",
   "metadata": {},
   "outputs": [
    {
     "name": "stdout",
     "output_type": "stream",
     "text": [
      "RAM SHYAM HARI GOPAL RAM\n"
     ]
    }
   ],
   "source": [
    "#.upper\n",
    "a = \"Ram Shyam Hari Gopal Ram\" \n",
    "a = a.upper()\n",
    "print(a)"
   ]
  },
  {
   "cell_type": "code",
   "execution_count": 45,
   "id": "9a243b30-b9ad-4dfd-ab3e-e30b632bfddd",
   "metadata": {},
   "outputs": [
    {
     "name": "stdin",
     "output_type": "stream",
     "text": [
      "Enter name =  rAm\n"
     ]
    },
    {
     "name": "stdout",
     "output_type": "stream",
     "text": [
      "yes\n",
      "3\n"
     ]
    }
   ],
   "source": [
    "a = \"Ram Shyam Hari Gopal Ram Ramesh\".lower()\n",
    "b = input(\"Enter name = \").lower()\n",
    "if b in a:\n",
    "    print(\"yes\")\n",
    "    print(a.count(b))  #no. of times the word inserted has been repeated in the a\n",
    "else:\n",
    "    print(\"No\")"
   ]
  },
  {
   "cell_type": "code",
   "execution_count": 46,
   "id": "2135d059-7425-475d-90cc-52ead676f018",
   "metadata": {},
   "outputs": [
    {
     "name": "stdout",
     "output_type": "stream",
     "text": [
      "Ram Shyam Hari Gopal Ram Ramesh\n"
     ]
    }
   ],
   "source": [
    "#replace\n",
    "a = \"Ram Shyam Hari Gopal Ram Ramesh\"\n",
    "a.replace(\"Shyam\",\"Shyama\")\n",
    "print(a)"
   ]
  },
  {
   "cell_type": "code",
   "execution_count": 47,
   "id": "42733d39-81cd-413f-8d79-60c70ef365d7",
   "metadata": {},
   "outputs": [
    {
     "name": "stdout",
     "output_type": "stream",
     "text": [
      "Ram Shyama Hari Gopal Ram Ramesh\n"
     ]
    }
   ],
   "source": [
    "#replace\n",
    "a = \"Ram Shyam Hari Gopal Ram Ramesh\"\n",
    "a = a.replace(\"Shyam\",\"Shyama\")\n",
    "print(a)"
   ]
  },
  {
   "cell_type": "code",
   "execution_count": 49,
   "id": "a5af5b1d-516a-4206-a849-8dc77de242f0",
   "metadata": {},
   "outputs": [
    {
     "name": "stdout",
     "output_type": "stream",
     "text": [
      "Rama Shyam Hari Gopal Rama Ramaesh\n"
     ]
    }
   ],
   "source": [
    "#replace\n",
    "a = \"Ram Shyam Hari Gopal Ram Ramesh\"\n",
    "a = a.replace(\"Ram\",\"Rama\")\n",
    "print(a)"
   ]
  },
  {
   "cell_type": "code",
   "execution_count": 51,
   "id": "d2983645-ea4a-47f1-9a17-7fe57a775bcf",
   "metadata": {},
   "outputs": [
    {
     "data": {
      "text/plain": [
       "'Ram Shyama Hari Gopal Ram Ramesh'"
      ]
     },
     "execution_count": 51,
     "metadata": {},
     "output_type": "execute_result"
    }
   ],
   "source": [
    "#replace\n",
    "a = \"Ram Shyam Hari Gopal Ram Ramesh\"\n",
    "a.replace(\"Shyam\",\"Shyama\")"
   ]
  },
  {
   "cell_type": "code",
   "execution_count": 52,
   "id": "204638ad-4c98-4c71-94da-f0f509e5fb09",
   "metadata": {},
   "outputs": [
    {
     "name": "stdout",
     "output_type": "stream",
     "text": [
      "Ram Shyam Hari Gopal Ram Ramesh\n"
     ]
    }
   ],
   "source": [
    "#replace\n",
    "a = \"Ram Shyam Hari Gopal Ram Ramesh\"\n",
    "a.replace(\"Shyam\",\"Shyama\")\n",
    "print(a)"
   ]
  },
  {
   "cell_type": "code",
   "execution_count": 53,
   "id": "983d2644-872a-4f3e-a4aa-1abe74dc63dc",
   "metadata": {},
   "outputs": [
    {
     "name": "stdout",
     "output_type": "stream",
     "text": [
      "Ram  Hari Gopal Ram Ramesh\n"
     ]
    }
   ],
   "source": [
    "#There is no delete option in string, but we can use replace to get a similar effect\n",
    "a = \"Ram Shyam Hari Gopal Ram Ramesh\"\n",
    "a = a.replace(\"Shyam\", \"\")\n",
    "print(a)"
   ]
  }
 ],
 "metadata": {
  "kernelspec": {
   "display_name": "Python 3 (ipykernel)",
   "language": "python",
   "name": "python3"
  },
  "language_info": {
   "codemirror_mode": {
    "name": "ipython",
    "version": 3
   },
   "file_extension": ".py",
   "mimetype": "text/x-python",
   "name": "python",
   "nbconvert_exporter": "python",
   "pygments_lexer": "ipython3",
   "version": "3.13.3"
  }
 },
 "nbformat": 4,
 "nbformat_minor": 5
}
