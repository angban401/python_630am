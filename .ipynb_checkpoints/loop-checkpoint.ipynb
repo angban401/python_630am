{
 "cells": [
  {
   "cell_type": "code",
   "execution_count": 3,
   "id": "f76efa65-4eaf-4989-9ee8-eab27f78453e",
   "metadata": {},
   "outputs": [
    {
     "name": "stdin",
     "output_type": "stream",
     "text": [
      "Enter how many people =  1\n",
      "Enter name =  hari\n",
      "Enter phone = 34353\n"
     ]
    },
    {
     "name": "stdout",
     "output_type": "stream",
     "text": [
      " hari 34353\n",
      "\n"
     ]
    }
   ],
   "source": [
    "#WAP to take name and phone number from users and create a simle data entry application\n",
    "#info = str()\n",
    "#info = \" \"\n",
    "#ram + 98123456\n",
    "#shyam + 987382829\n",
    "\n",
    "info = \" \"\n",
    "n = int(input(\"Enter how many people = \"))\n",
    "for i in range(n):\n",
    "    name = input(\"Enter name = \")\n",
    "    phone = input(\"Enter phone =\")\n",
    "    data = name + \" \" + phone + \"\\n\"\n",
    "    info = info + data\n",
    "\n",
    "    print(info)\n",
    "    "
   ]
  },
  {
   "cell_type": "code",
   "execution_count": 13,
   "id": "72f8f56a-8745-4141-b722-1841f8049fe2",
   "metadata": {},
   "outputs": [
    {
     "name": "stdin",
     "output_type": "stream",
     "text": [
      "Enter n =  3\n",
      "Enter product name= coke\n",
      "Enter qty= 3\n",
      "Enter price= 100\n",
      "Enter product name= momo\n",
      "Enter qty= 2\n",
      "Enter price= 120\n",
      "Enter product name= chowmin\n",
      "Enter qty= 1\n",
      "Enter price= 100\n"
     ]
    },
    {
     "name": "stdout",
     "output_type": "stream",
     "text": [
      "Bill = \n",
      " coke 100.0 3.0 300.0\n",
      "momo 120.0 2.0 240.0\n",
      "chowmin 100.0 1.0 100.0\n",
      "\n",
      "All total =\n",
      " 640.0\n"
     ]
    }
   ],
   "source": [
    "info = \"\"\n",
    "grand_total = 0\n",
    "n = int(input(\"Enter n = \"))\n",
    "for i in range(n):\n",
    "    product = input(\"Enter product name=\")\n",
    "    qty = float(input(\"Enter qty=\"))\n",
    "    price = float(input(\"Enter price=\"))\n",
    "    total = price * qty\n",
    "    row = product + \" \" + str(price) + \" \" + str(qty) + \" \" + str(total) + \"\\n\"\n",
    "    info = info + row\n",
    "    grand_total= grand_total + total\n",
    "\n",
    "print(\"Bill = \\n\",info)\n",
    "print(\"All total\",grand_total)\n"
   ]
  },
  {
   "cell_type": "code",
   "execution_count": 15,
   "id": "93afea24-fdcf-449b-97f7-5c8bfd5300c9",
   "metadata": {},
   "outputs": [
    {
     "name": "stdout",
     "output_type": "stream",
     "text": [
      "\n",
      "o\n",
      "oo\n",
      "ooo\n",
      "oooo\n"
     ]
    }
   ],
   "source": [
    "for i in range(5): #0,1,2,3,4\n",
    "    print(i*\"o\")\n",
    "    "
   ]
  },
  {
   "cell_type": "code",
   "execution_count": 16,
   "id": "70b985d9-5d4d-4f10-8e88-b73d8587c6a9",
   "metadata": {},
   "outputs": [
    {
     "name": "stdout",
     "output_type": "stream",
     "text": [
      "00000\n",
      "0000\n",
      "000\n",
      "00\n",
      "0\n"
     ]
    }
   ],
   "source": [
    "for i in range(5,0,-1): #5,4,3,2,1\n",
    "    print(i*\"0\")"
   ]
  },
  {
   "cell_type": "code",
   "execution_count": 1,
   "id": "944bad13-631e-42ef-8e4f-600be9461b66",
   "metadata": {},
   "outputs": [
    {
     "ename": "TypeError",
     "evalue": "unsupported operand type(s) for -: 'int' and 'str'",
     "output_type": "error",
     "traceback": [
      "\u001b[31m---------------------------------------------------------------------------\u001b[39m",
      "\u001b[31mTypeError\u001b[39m                                 Traceback (most recent call last)",
      "\u001b[36mCell\u001b[39m\u001b[36m \u001b[39m\u001b[32mIn[1]\u001b[39m\u001b[32m, line 2\u001b[39m\n\u001b[32m      1\u001b[39m \u001b[38;5;28;01mfor\u001b[39;00m i \u001b[38;5;129;01min\u001b[39;00m \u001b[38;5;28mrange\u001b[39m(\u001b[32m5\u001b[39m):\n\u001b[32m----> \u001b[39m\u001b[32m2\u001b[39m     \u001b[38;5;28mprint\u001b[39m(\u001b[32;43m2\u001b[39;49m\u001b[43m*\u001b[49m\u001b[43mi\u001b[49m\u001b[43m-\u001b[49m\u001b[32;43m1\u001b[39;49m\u001b[43m*\u001b[49m\u001b[33;43m\"\u001b[39;49m\u001b[33;43m \u001b[39;49m\u001b[33;43m\"\u001b[39;49m,*\u001b[33m\"\u001b[39m\u001b[33mo\u001b[39m\u001b[33m\"\u001b[39m)\n",
      "\u001b[31mTypeError\u001b[39m: unsupported operand type(s) for -: 'int' and 'str'"
     ]
    }
   ],
   "source": [
    "for i in range(5):\n",
    "    print(2*i-1*\" \",*\"o\")\n",
    "\n",
    "    "
   ]
  },
  {
   "cell_type": "code",
   "execution_count": 3,
   "id": "095ac802-032a-4d54-8967-446c6f143085",
   "metadata": {},
   "outputs": [
    {
     "name": "stdout",
     "output_type": "stream",
     "text": [
      "0\n",
      "1\n",
      "2\n",
      "3\n",
      "4\n",
      "5\n",
      "6\n",
      "7\n",
      "8\n",
      "9\n"
     ]
    }
   ],
   "source": [
    "#29 April\n",
    "#Control statments\n",
    "#1. break\n",
    "#2. Continute\n",
    "\n",
    "for i in range(10):\n",
    "    print(i)\n"
   ]
  },
  {
   "cell_type": "code",
   "execution_count": 8,
   "id": "2ba60b07-96b9-4602-a37d-367bad9b92d3",
   "metadata": {
    "collapsed": true,
    "jupyter": {
     "outputs_hidden": true
    }
   },
   "outputs": [
    {
     "name": "stdout",
     "output_type": "stream",
     "text": [
      "0\n",
      "1\n",
      "2\n",
      "3\n",
      "4\n"
     ]
    }
   ],
   "source": [
    "for i in range(10):\n",
    "    if i==5:\n",
    "        break\n",
    "    print(i)"
   ]
  },
  {
   "cell_type": "code",
   "execution_count": 10,
   "id": "22173705-e6d1-4b36-acba-4c053a05a756",
   "metadata": {},
   "outputs": [
    {
     "name": "stdout",
     "output_type": "stream",
     "text": [
      "0\n",
      "1\n",
      "2\n",
      "3\n",
      "4\n",
      "6\n",
      "7\n",
      "8\n",
      "9\n"
     ]
    }
   ],
   "source": [
    "for i in range(10):\n",
    "    if i==5:\n",
    "        continue\n",
    "    print(i)"
   ]
  },
  {
   "cell_type": "code",
   "execution_count": 11,
   "id": "3ee5db74-7109-4452-b0b3-ebe2fdd24fa1",
   "metadata": {},
   "outputs": [
    {
     "name": "stdout",
     "output_type": "stream",
     "text": [
      "H\n",
      "e\n",
      "l\n",
      "l\n",
      "o\n",
      " \n",
      "w\n",
      "o\n",
      "r\n",
      "l\n",
      "d\n"
     ]
    }
   ],
   "source": [
    "a = \"Hello world. I am from Kathmandu.\"\n",
    "for i in a:\n",
    "    if i==\".\":\n",
    "        break\n",
    "    print(i)\n"
   ]
  },
  {
   "cell_type": "code",
   "execution_count": 15,
   "id": "4cd2132f-cbfc-4de1-836e-82c2225cf0ee",
   "metadata": {},
   "outputs": [
    {
     "name": "stdout",
     "output_type": "stream",
     "text": [
      "Hello world"
     ]
    }
   ],
   "source": [
    "a = \"Hello world. I am from Kathmandu.\"\n",
    "for i in a:\n",
    "    if i == \".\":\n",
    "        break\n",
    "    print(i, end=\"\")"
   ]
  },
  {
   "cell_type": "code",
   "execution_count": 13,
   "id": "816fce0e-da5f-497b-be95-e303d4a46b54",
   "metadata": {},
   "outputs": [
    {
     "name": "stdout",
     "output_type": "stream",
     "text": [
      "Helo world"
     ]
    }
   ],
   "source": [
    "a = \"Helo world. I am from Kathamdnu.\"\n",
    "for i in a:\n",
    "    if i==\".\":\n",
    "        break\n",
    "    print(i,end=\"\")"
   ]
  },
  {
   "cell_type": "code",
   "execution_count": 14,
   "id": "8b7ae749-0372-43f1-b1bd-a5f579d79cba",
   "metadata": {},
   "outputs": [
    {
     "name": "stdout",
     "output_type": "stream",
     "text": [
      "Hello world I am from Kathmandu"
     ]
    }
   ],
   "source": [
    "a=\"Hello world. I am from Kathmandu.\"\n",
    "for i in a:\n",
    "    if i==\".\":\n",
    "        continue\n",
    "    print(i, end =\"\")"
   ]
  }
 ],
 "metadata": {
  "kernelspec": {
   "display_name": "Python 3 (ipykernel)",
   "language": "python",
   "name": "python3"
  },
  "language_info": {
   "codemirror_mode": {
    "name": "ipython",
    "version": 3
   },
   "file_extension": ".py",
   "mimetype": "text/x-python",
   "name": "python",
   "nbconvert_exporter": "python",
   "pygments_lexer": "ipython3",
   "version": "3.13.3"
  }
 },
 "nbformat": 4,
 "nbformat_minor": 5
}
