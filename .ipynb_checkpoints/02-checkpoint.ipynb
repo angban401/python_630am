{
 "cells": [
  {
   "cell_type": "code",
   "execution_count": 3,
   "id": "32cd8ea2-5d72-4d1a-a1b0-21b259cddf50",
   "metadata": {},
   "outputs": [
    {
     "name": "stdout",
     "output_type": "stream",
     "text": [
      "False\n",
      "True\n",
      "False\n",
      "True\n"
     ]
    }
   ],
   "source": [
    "num1 = 10\n",
    "num2 = 20\n",
    "\n",
    "print(num1 >= num2)\n",
    "print(num1 <= num2)\n",
    "print(num1 == num2)\n",
    "print(num1 != num2)"
   ]
  },
  {
   "cell_type": "code",
   "execution_count": 4,
   "id": "4489d766-f425-42c5-b378-081797122c15",
   "metadata": {},
   "outputs": [
    {
     "name": "stdout",
     "output_type": "stream",
     "text": [
      "False\n"
     ]
    }
   ],
   "source": [
    "#logical operator: AND, OR, NOR, it works with boolean value\n",
    "a = True\n",
    "b = False\n",
    "\n",
    "print(a and b)\n",
    "\n"
   ]
  },
  {
   "cell_type": "code",
   "execution_count": 5,
   "id": "ac4e5279-70ed-459d-b745-c314ba640ca3",
   "metadata": {},
   "outputs": [
    {
     "name": "stdout",
     "output_type": "stream",
     "text": [
      "True\n"
     ]
    }
   ],
   "source": [
    "a = True\n",
    "b = True\n",
    "\n",
    "print(a and b)"
   ]
  },
  {
   "cell_type": "code",
   "execution_count": 6,
   "id": "874b1982-cc55-4445-8e33-c874fe6986f0",
   "metadata": {},
   "outputs": [
    {
     "name": "stdout",
     "output_type": "stream",
     "text": [
      "False\n",
      "True\n"
     ]
    }
   ],
   "source": [
    "a = True\n",
    "b = False\n",
    "\n",
    "print(a and b)\n",
    "print(a or b)"
   ]
  },
  {
   "cell_type": "code",
   "execution_count": 7,
   "id": "71d0c30d-cc74-4c74-9323-7898ce0e98bf",
   "metadata": {},
   "outputs": [
    {
     "name": "stdout",
     "output_type": "stream",
     "text": [
      "False\n",
      "True\n",
      "False\n"
     ]
    }
   ],
   "source": [
    "a = True\n",
    "b = False\n",
    "\n",
    "print(a and b)\n",
    "print(a or b)\n",
    "print(not a)"
   ]
  },
  {
   "cell_type": "code",
   "execution_count": 9,
   "id": "f6d3ebbf-6e35-4a5f-bf57-6838fa65e7ec",
   "metadata": {},
   "outputs": [
    {
     "name": "stdout",
     "output_type": "stream",
     "text": [
      "False\n",
      "False\n"
     ]
    }
   ],
   "source": [
    "a = 10\n",
    "b = 20\n",
    "c = 30\n",
    "\n",
    "print(a > b and b > c)\n",
    "print(a > b or b > c)"
   ]
  },
  {
   "cell_type": "code",
   "execution_count": 10,
   "id": "7560711f-26e7-4138-b29c-0961e6273063",
   "metadata": {},
   "outputs": [
    {
     "name": "stdout",
     "output_type": "stream",
     "text": [
      "H\n",
      "w\n"
     ]
    }
   ],
   "source": [
    "s = \"Hello, world!\"\n",
    "print(s[0])\n",
    "print(s[7])"
   ]
  },
  {
   "cell_type": "code",
   "execution_count": 16,
   "id": "8d36fcab-3448-49ba-a247-fe7caf1dc5f4",
   "metadata": {},
   "outputs": [
    {
     "name": "stdout",
     "output_type": "stream",
     "text": [
      "!\n",
      "o\n",
      "l\n",
      "r\n"
     ]
    }
   ],
   "source": [
    "s = \"Hello, world!\"\n",
    "print(s[-1])\n",
    "print(s[-5])\n",
    "print(s[3])\n",
    "print(s[9])"
   ]
  },
  {
   "cell_type": "code",
   "execution_count": 17,
   "id": "1bcb07d5-d946-4ed5-abd6-f312a7d28df5",
   "metadata": {},
   "outputs": [
    {
     "name": "stdout",
     "output_type": "stream",
     "text": [
      "H\n",
      "d\n",
      "Hello World\n"
     ]
    }
   ],
   "source": [
    "#Is it immutable? No it is still immutable, but the referencing is different to RAM location. It will read the latest\n",
    "username = \"sushan shakya\"\n",
    "username = \"Hello World\"\n",
    "print(username[0])\n",
    "print(username[-1])\n",
    "print(username)"
   ]
  },
  {
   "cell_type": "code",
   "execution_count": 19,
   "id": "ace71068-703d-4162-9840-faf845be0d5b",
   "metadata": {},
   "outputs": [
    {
     "name": "stdout",
     "output_type": "stream",
     "text": [
      "Hello\n"
     ]
    }
   ],
   "source": [
    "#slicing\n",
    "username = \"Hello World\"\n",
    "\n",
    "print(username[0:5])"
   ]
  },
  {
   "cell_type": "code",
   "execution_count": 20,
   "id": "fb6da000-5079-466b-ab42-f8e5c29b597f",
   "metadata": {},
   "outputs": [
    {
     "name": "stdout",
     "output_type": "stream",
     "text": [
      "Hlo\n"
     ]
    }
   ],
   "source": [
    "#slicing\n",
    "username = \"Hello World\"\n",
    "\n",
    "print(username[0:5:2])"
   ]
  },
  {
   "cell_type": "code",
   "execution_count": 21,
   "id": "a5616688-5903-486f-a7e5-c570560f09c7",
   "metadata": {},
   "outputs": [
    {
     "name": "stdout",
     "output_type": "stream",
     "text": [
      "Hello W\n"
     ]
    }
   ],
   "source": [
    "#slicing\n",
    "username = \"Hello World\"\n",
    "\n",
    "print(username[:7])"
   ]
  },
  {
   "cell_type": "code",
   "execution_count": 22,
   "id": "40c3a42b-6e57-4cd5-8055-90379152752a",
   "metadata": {},
   "outputs": [
    {
     "name": "stdout",
     "output_type": "stream",
     "text": [
      "lo World\n"
     ]
    }
   ],
   "source": [
    "#slicing\n",
    "username = \"Hello World\"\n",
    "\n",
    "print(username[3:])"
   ]
  },
  {
   "cell_type": "code",
   "execution_count": 23,
   "id": "e3a1ddb5-5e6f-4c3d-b1a5-1ae6e1fdd635",
   "metadata": {},
   "outputs": [
    {
     "name": "stdout",
     "output_type": "stream",
     "text": [
      "dlroW olleH\n"
     ]
    }
   ],
   "source": [
    "#negative slicing, reverse words, there are functions for reversing as well though\n",
    "username = \"Hello World\"\n",
    "\n",
    "print(username[::-1])"
   ]
  },
  {
   "cell_type": "code",
   "execution_count": 26,
   "id": "0a393a39-e2dd-4eac-a619-b572a503557e",
   "metadata": {},
   "outputs": [
    {
     "name": "stdout",
     "output_type": "stream",
     "text": [
      "\n",
      "Wo\n"
     ]
    }
   ],
   "source": [
    "#negative slicing\n",
    "username = \"Hello World\"\n",
    "\n",
    "print(username[2:6:-2]) #no output\n",
    "print(username[6:2:-2])"
   ]
  },
  {
   "cell_type": "code",
   "execution_count": null,
   "id": "49362562-9ec8-452e-88d1-f93cdaa3a7d6",
   "metadata": {},
   "outputs": [],
   "source": [
    "#negative slicing\n",
    "username = \"Hello World\"\n",
    "\n",
    "print(username[::-1])"
   ]
  },
  {
   "cell_type": "code",
   "execution_count": 27,
   "id": "ed240b27-2ce8-4284-a9c5-dd57eb7b86a5",
   "metadata": {},
   "outputs": [
    {
     "name": "stdout",
     "output_type": "stream",
     "text": [
      "11\n"
     ]
    }
   ],
   "source": [
    "#length of string (character counts)\n",
    "username = \"Hello World\"\n",
    "\n",
    "print(len(username))"
   ]
  },
  {
   "cell_type": "code",
   "execution_count": 28,
   "id": "46ed7763-13c0-4d13-9f19-ef6dd7706f3f",
   "metadata": {},
   "outputs": [
    {
     "name": "stdout",
     "output_type": "stream",
     "text": [
      "Hello World\n"
     ]
    }
   ],
   "source": [
    "#String methods .replace()\n",
    "s = \"Hello World\"\n",
    "s.replace(\"World\", \"Python\") #string is immutable\n",
    "print(s)"
   ]
  },
  {
   "cell_type": "code",
   "execution_count": 29,
   "id": "619b09c1-85f9-4c5b-a7c3-db3ef73774d2",
   "metadata": {},
   "outputs": [
    {
     "name": "stdout",
     "output_type": "stream",
     "text": [
      "Hello Python\n"
     ]
    }
   ],
   "source": [
    "s = \"Hello World\"\n",
    "s = s.replace(\"World\", \"Python\") #string is immutable therefore new string replaces the world\n",
    "print(s)"
   ]
  },
  {
   "cell_type": "code",
   "execution_count": 30,
   "id": "d59936a6-8cf2-42d4-a8bc-62d1fd8c4368",
   "metadata": {},
   "outputs": [
    {
     "name": "stdout",
     "output_type": "stream",
     "text": [
      "['Hello World']\n"
     ]
    }
   ],
   "source": [
    "#String to list\n",
    "name = \"Hello World\"\n",
    "print(name.split(\",\"))"
   ]
  }
 ],
 "metadata": {
  "kernelspec": {
   "display_name": "Python 3 (ipykernel)",
   "language": "python",
   "name": "python3"
  },
  "language_info": {
   "codemirror_mode": {
    "name": "ipython",
    "version": 3
   },
   "file_extension": ".py",
   "mimetype": "text/x-python",
   "name": "python",
   "nbconvert_exporter": "python",
   "pygments_lexer": "ipython3",
   "version": "3.13.3"
  }
 },
 "nbformat": 4,
 "nbformat_minor": 5
}
